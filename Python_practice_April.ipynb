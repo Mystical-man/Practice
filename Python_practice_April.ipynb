{
 "cells": [
  {
   "cell_type": "markdown",
   "metadata": {},
   "source": [
    "1 April 2025"
   ]
  },
  {
   "cell_type": "markdown",
   "metadata": {},
   "source": [
    "String Manipulation"
   ]
  },
  {
   "cell_type": "markdown",
   "metadata": {},
   "source": [
    "Concatenation"
   ]
  },
  {
   "cell_type": "code",
   "execution_count": 1,
   "metadata": {},
   "outputs": [
    {
     "name": "stdout",
     "output_type": "stream",
     "text": [
      "All are just busy.They forgot to have fun.\n"
     ]
    }
   ],
   "source": [
    "str1 = \"All are \"\n",
    "str2 = \"just busy.\"\n",
    "str3 = \"They forgot to have fun.\"\n",
    "print(str1 + str2 +str3)\n",
    "\n",
    "# ctrl + / for commenting out the line together\n",
    "# just select the lines to comment and put the command"
   ]
  },
  {
   "cell_type": "markdown",
   "metadata": {},
   "source": [
    "Repetition"
   ]
  },
  {
   "cell_type": "code",
   "execution_count": 92,
   "metadata": {},
   "outputs": [
    {
     "name": "stdout",
     "output_type": "stream",
     "text": [
      "You are good if you read it\n",
      "You are good if you read it\n",
      "You are good if you read it\n",
      "\n",
      "You read it thrice lol\n"
     ]
    }
   ],
   "source": [
    "str4 = \"You are good if you read it\"\n",
    "print (f\"{str4}\\n\"*3)\n",
    "print(\"You read it thrice lol\")"
   ]
  },
  {
   "cell_type": "markdown",
   "metadata": {},
   "source": [
    "Indexing and Slicing"
   ]
  },
  {
   "cell_type": "code",
   "execution_count": 93,
   "metadata": {},
   "outputs": [
    {
     "name": "stdout",
     "output_type": "stream",
     "text": [
      "Fifth Character: e\n",
      "Substring (0-7): How are\n"
     ]
    }
   ],
   "source": [
    "text = \"How are you\"\n",
    "print(\"Fifth Character:\",text[6])\n",
    "print(\"Substring (0-7):\",text[0:7])"
   ]
  },
  {
   "cell_type": "markdown",
   "metadata": {},
   "source": [
    "String Methods"
   ]
  },
  {
   "cell_type": "code",
   "execution_count": 185,
   "metadata": {},
   "outputs": [
    {
     "name": "stdout",
     "output_type": "stream",
     "text": [
      "AXLE\n",
      "axis\n"
     ]
    }
   ],
   "source": [
    "a = \"Axle\"\n",
    "b = \"Axis\"\n",
    "c = \"Ami je tomar\"\n",
    "print(a.upper())            #uppercase\n",
    "print(b.lower())            #lowercase\n"
   ]
  },
  {
   "cell_type": "code",
   "execution_count": 95,
   "metadata": {},
   "outputs": [
    {
     "name": "stdout",
     "output_type": "stream",
     "text": [
      "['apple', 'banana', 'grape']\n",
      "This is the X Axis\n",
      "This is the X Axis\n",
      "Hello Rakesh\n"
     ]
    }
   ],
   "source": [
    "text= \"apple,banana,grape\"\n",
    "print(text.split(\",\"))                      #delimiter(separates into array based on condition,here ',' operator)\n",
    "print(f\"This is the X {b}\")   \n",
    "print(\"This is the X {}\".format(b))         #dot format\n",
    "str5 = \"Hello Rajesh\"\n",
    "print(str5.replace(\"Rajesh\",\"Rakesh\"))      #replace"
   ]
  },
  {
   "cell_type": "code",
   "execution_count": 96,
   "metadata": {},
   "outputs": [
    {
     "name": "stdout",
     "output_type": "stream",
     "text": [
      "True\n"
     ]
    }
   ],
   "source": [
    "str6 = \"We are learning python\"\n",
    "print(\"python\" in str6)"
   ]
  },
  {
   "cell_type": "markdown",
   "metadata": {},
   "source": [
    "Number Manipulation"
   ]
  },
  {
   "cell_type": "code",
   "execution_count": 97,
   "metadata": {},
   "outputs": [
    {
     "name": "stdout",
     "output_type": "stream",
     "text": [
      "Sum:8\n",
      "Difference:3\n",
      "Product:15\n",
      "Division:3.0\n",
      "Floor division:3\n",
      "Modulus:12\n",
      "Exponent:4096\n",
      "\n"
     ]
    }
   ],
   "source": [
    "''' Common Number operators\n",
    "1. Arithmetic Operators: + , - , * , / , // , % , **'''\n",
    "print(f\"Sum:{5+3}\\nDifference:{9-6}\\nProduct:{5*3}\\nDivision:{9/3}\\nFloor division:{18//5}\\nModulus:{140%16}\\nExponent:{2**12}\\n\")\n"
   ]
  },
  {
   "cell_type": "code",
   "execution_count": 98,
   "metadata": {},
   "outputs": [
    {
     "name": "stdout",
     "output_type": "stream",
     "text": [
      "Absolute Value of -105 is 105 \n",
      "Rounded value of pi comes to 3.14 \n",
      "5 to the power of 12 is 244140625\n",
      "\n"
     ]
    }
   ],
   "source": [
    "'''2. Math Function\n",
    "abs function:abs(a)\n",
    "round function: round(x,n)\n",
    "power function: pow(x,y)'''\n",
    "print(f\"Absolute Value of -105 is {abs(-105)} \\nRounded value of pi comes to {round(3.14159,2)} \\n5 to the power of 12 is {pow(5,12)}\\n\")\n"
   ]
  },
  {
   "cell_type": "code",
   "execution_count": 99,
   "metadata": {},
   "outputs": [
    {
     "name": "stdout",
     "output_type": "stream",
     "text": [
      "5\n",
      "<class 'int'>\n",
      "5.0\n",
      "<class 'float'>\n",
      "5\n",
      "<class 'str'>\n"
     ]
    }
   ],
   "source": [
    "'''3. Type Conversion\n",
    "int(x)\n",
    "float(x)\n",
    "str(x)'''\n",
    "print(int(\"5\"))                 #string to int\n",
    "print(type(int(\"5\")))\n",
    "\n",
    "print(float(\"5\"))               #string to float\n",
    "print(type(float(\"5\")))\n",
    "\n",
    "print(str(5))                   #int to string\n",
    "print(type(str(5)))"
   ]
  },
  {
   "cell_type": "markdown",
   "metadata": {},
   "source": [
    "2 April 2025"
   ]
  },
  {
   "cell_type": "markdown",
   "metadata": {},
   "source": [
    "List"
   ]
  },
  {
   "cell_type": "markdown",
   "metadata": {},
   "source": [
    "ordered, mutable list of elements in square brackets []"
   ]
  },
  {
   "cell_type": "code",
   "execution_count": 100,
   "metadata": {},
   "outputs": [
    {
     "name": "stdout",
     "output_type": "stream",
     "text": [
      "['apple', 'banana', 'cherry']\n",
      "<class 'list'>\n"
     ]
    }
   ],
   "source": [
    "fruits = ['apple','banana','cherry']\n",
    "print(fruits)\n",
    "print(type(fruits))"
   ]
  },
  {
   "cell_type": "code",
   "execution_count": 101,
   "metadata": {},
   "outputs": [
    {
     "name": "stdout",
     "output_type": "stream",
     "text": [
      "['apple', 'orange', 'cherry']\n",
      "cherry\n"
     ]
    }
   ],
   "source": [
    "fruits[1] = 'orange'\n",
    "print(fruits)\n",
    "\n",
    "print(fruits[2])"
   ]
  },
  {
   "cell_type": "markdown",
   "metadata": {},
   "source": [
    "List Methods"
   ]
  },
  {
   "cell_type": "code",
   "execution_count": 102,
   "metadata": {},
   "outputs": [
    {
     "name": "stdout",
     "output_type": "stream",
     "text": [
      "['apple', 'orange', 'cherry', 'papaya']\n"
     ]
    }
   ],
   "source": [
    "nums = [1,2,5,7,9]\n",
    "#list.append(value)\n",
    "fruits.append(\"papaya\")\n",
    "print(fruits)\n",
    "#fruits.remove(\"Grapes\")"
   ]
  },
  {
   "cell_type": "code",
   "execution_count": 103,
   "metadata": {},
   "outputs": [
    {
     "name": "stdout",
     "output_type": "stream",
     "text": [
      "[1, 2, 5, 7, 9, 11]\n"
     ]
    }
   ],
   "source": [
    "#list.insert(index,value)\n",
    "nums.insert(6,11)\n",
    "print(nums)"
   ]
  },
  {
   "cell_type": "code",
   "execution_count": 104,
   "metadata": {},
   "outputs": [
    {
     "name": "stdout",
     "output_type": "stream",
     "text": [
      "[1, 2, 5, 7, 11]\n"
     ]
    }
   ],
   "source": [
    "#list.remove(value)\n",
    "nums.remove(9)\n",
    "print(nums)"
   ]
  },
  {
   "cell_type": "code",
   "execution_count": 105,
   "metadata": {},
   "outputs": [
    {
     "name": "stdout",
     "output_type": "stream",
     "text": [
      "['orange', 'cherry', 'papaya']\n"
     ]
    }
   ],
   "source": [
    "#list.pop(index)\n",
    "fruits.pop(0)\n",
    "print(fruits)"
   ]
  },
  {
   "cell_type": "code",
   "execution_count": 106,
   "metadata": {},
   "outputs": [
    {
     "name": "stdout",
     "output_type": "stream",
     "text": [
      "[1, 4, 5, 7, 9, 11]\n"
     ]
    }
   ],
   "source": [
    "#list.sort()  numeric value\n",
    "num2 = [1,4,7,9,5,11]\n",
    "num2.sort()\n",
    "print(num2)"
   ]
  },
  {
   "cell_type": "code",
   "execution_count": 107,
   "metadata": {},
   "outputs": [
    {
     "name": "stdout",
     "output_type": "stream",
     "text": [
      "['papaya', 'cherry', 'orange']\n"
     ]
    }
   ],
   "source": [
    "#list.reverse()\n",
    "fruits.reverse()\n",
    "print(fruits)"
   ]
  },
  {
   "cell_type": "code",
   "execution_count": 108,
   "metadata": {},
   "outputs": [
    {
     "name": "stdout",
     "output_type": "stream",
     "text": [
      "0\n"
     ]
    }
   ],
   "source": [
    "#list.count(value)       numeric value\n",
    "print(num2.count(8))"
   ]
  },
  {
   "cell_type": "code",
   "execution_count": 109,
   "metadata": {},
   "outputs": [
    {
     "name": "stdout",
     "output_type": "stream",
     "text": [
      "3\n"
     ]
    }
   ],
   "source": [
    "#list.index(value)\n",
    "print(num2.index(7))"
   ]
  },
  {
   "cell_type": "markdown",
   "metadata": {},
   "source": [
    "3 April 2025"
   ]
  },
  {
   "cell_type": "markdown",
   "metadata": {},
   "source": [
    "Tuple"
   ]
  },
  {
   "cell_type": "markdown",
   "metadata": {},
   "source": [
    "Changing values as certain index like num[0] = 10 is not possible,but accessing is possible"
   ]
  },
  {
   "cell_type": "markdown",
   "metadata": {},
   "source": [
    "Tuple Methods"
   ]
  },
  {
   "cell_type": "code",
   "execution_count": 110,
   "metadata": {},
   "outputs": [
    {
     "data": {
      "text/plain": [
       "4"
      ]
     },
     "execution_count": 110,
     "metadata": {},
     "output_type": "execute_result"
    }
   ],
   "source": [
    "numbers = (1,2,3,4,5,2,2,2)\n",
    "numbers.count(2)"
   ]
  },
  {
   "cell_type": "code",
   "execution_count": 111,
   "metadata": {},
   "outputs": [
    {
     "data": {
      "text/plain": [
       "1"
      ]
     },
     "execution_count": 111,
     "metadata": {},
     "output_type": "execute_result"
    }
   ],
   "source": [
    "i = (\"a\",\"b\",\"c\",\"a\")\n",
    "i.index(\"b\")"
   ]
  },
  {
   "cell_type": "markdown",
   "metadata": {},
   "source": [
    "Exercise\n",
    "\n",
    "#list of 5 numbers,adding and removing an element and sorting it\n",
    "\n",
    "#tuple of 5 elements,count occurances,and index of element"
   ]
  },
  {
   "cell_type": "code",
   "execution_count": 112,
   "metadata": {},
   "outputs": [
    {
     "name": "stdout",
     "output_type": "stream",
     "text": [
      "[1, 2, 3, 4, 6, 7, 11, 9, 10, 17, 8, 14, 13, 12, 15]\n"
     ]
    }
   ],
   "source": [
    "n1 = [1,2,3,4,6,7,11,9,10,17,8,14,13,12]\n",
    "n1.append(15)\n",
    "print(n1)"
   ]
  },
  {
   "cell_type": "code",
   "execution_count": 113,
   "metadata": {},
   "outputs": [
    {
     "name": "stdout",
     "output_type": "stream",
     "text": [
      "[1, 2, 3, 4, 6, 7, 11, 9, 10, 8, 14, 13, 12, 15]\n"
     ]
    }
   ],
   "source": [
    "n1.remove(17)\n",
    "print(n1)"
   ]
  },
  {
   "cell_type": "code",
   "execution_count": 114,
   "metadata": {},
   "outputs": [
    {
     "name": "stdout",
     "output_type": "stream",
     "text": [
      "[1, 2, 3, 4, 6, 7, 8, 9, 10, 11, 12, 13, 14, 15]\n"
     ]
    }
   ],
   "source": [
    "n1.sort()\n",
    "print(n1)"
   ]
  },
  {
   "cell_type": "code",
   "execution_count": 115,
   "metadata": {},
   "outputs": [
    {
     "name": "stdout",
     "output_type": "stream",
     "text": [
      "2\n",
      "3\n"
     ]
    }
   ],
   "source": [
    "t1 = (\"Akshay\",\"Akash\",\"Bhuvan\",\"Dhiraj\",\"Akshay\")\n",
    "print(t1.count(\"Akshay\"))\n",
    "print(t1.index(\"Dhiraj\"))"
   ]
  },
  {
   "cell_type": "markdown",
   "metadata": {},
   "source": [
    "4 April 2025"
   ]
  },
  {
   "cell_type": "markdown",
   "metadata": {},
   "source": [
    "Dictionary and methods\n",
    "\n",
    "These are key value pairs"
   ]
  },
  {
   "cell_type": "code",
   "execution_count": 116,
   "metadata": {},
   "outputs": [
    {
     "name": "stdout",
     "output_type": "stream",
     "text": [
      "dict_keys(['name', 'age', 'email'])\n"
     ]
    }
   ],
   "source": [
    "student = {\n",
    "    \"name\" : \"Akash\",\n",
    "    \"age\" : 28,\n",
    "    \"email\" : \"akashgp123@gmail.com\"\n",
    "}\n",
    "\n",
    "print(student.keys())"
   ]
  },
  {
   "cell_type": "code",
   "execution_count": 117,
   "metadata": {},
   "outputs": [
    {
     "name": "stdout",
     "output_type": "stream",
     "text": [
      "dict_items([('name', 'Akash'), ('age', 28), ('email', 'akashgp123@gmail.com')])\n"
     ]
    }
   ],
   "source": [
    "print(student.items())"
   ]
  },
  {
   "cell_type": "code",
   "execution_count": 118,
   "metadata": {},
   "outputs": [
    {
     "name": "stdout",
     "output_type": "stream",
     "text": [
      "{'name': 'Akash', 'age': 28, 'email': 'akashgp123@gmail.com', 'Grade': 'A'}\n"
     ]
    }
   ],
   "source": [
    "student.update({\"Grade\":\"A\"})\n",
    "print(student)"
   ]
  },
  {
   "cell_type": "code",
   "execution_count": 119,
   "metadata": {},
   "outputs": [
    {
     "name": "stdout",
     "output_type": "stream",
     "text": [
      "28\n"
     ]
    }
   ],
   "source": [
    "print(student.get(\"age\",0))"
   ]
  },
  {
   "cell_type": "code",
   "execution_count": 120,
   "metadata": {},
   "outputs": [
    {
     "name": "stdout",
     "output_type": "stream",
     "text": [
      "{'name': 'Akash', 'age': 28, 'Grade': 'A'}\n"
     ]
    }
   ],
   "source": [
    "student.pop(\"email\")\n",
    "print(student)"
   ]
  },
  {
   "cell_type": "code",
   "execution_count": 121,
   "metadata": {},
   "outputs": [
    {
     "name": "stdout",
     "output_type": "stream",
     "text": [
      "dict_values(['Akash', 28, 'A'])\n"
     ]
    }
   ],
   "source": [
    "print(student.values())"
   ]
  },
  {
   "cell_type": "markdown",
   "metadata": {},
   "source": [
    "Sets and methods"
   ]
  },
  {
   "cell_type": "markdown",
   "metadata": {},
   "source": [
    "5 April 2025"
   ]
  },
  {
   "cell_type": "markdown",
   "metadata": {},
   "source": [
    "Sets doesn't allow duplication"
   ]
  },
  {
   "cell_type": "code",
   "execution_count": 122,
   "metadata": {},
   "outputs": [
    {
     "data": {
      "text/plain": [
       "{'apple', 'cherry', 'mango', 'papaya'}"
      ]
     },
     "execution_count": 122,
     "metadata": {},
     "output_type": "execute_result"
    }
   ],
   "source": [
    "set1 = {\"apple\",\"cherry\",\"mango\",\"papaya\",\"mango\"}\n",
    "set1"
   ]
  },
  {
   "cell_type": "code",
   "execution_count": 123,
   "metadata": {},
   "outputs": [
    {
     "data": {
      "text/plain": [
       "{'apple', 'cherry', 'mango', 'orange', 'papaya'}"
      ]
     },
     "execution_count": 123,
     "metadata": {},
     "output_type": "execute_result"
    }
   ],
   "source": [
    "set1.add(\"orange\")\n",
    "set1"
   ]
  },
  {
   "cell_type": "code",
   "execution_count": 124,
   "metadata": {},
   "outputs": [
    {
     "data": {
      "text/plain": [
       "{'apple', 'cherry', 'mango', 'orange'}"
      ]
     },
     "execution_count": 124,
     "metadata": {},
     "output_type": "execute_result"
    }
   ],
   "source": [
    "set1.remove(\"papaya\")\n",
    "set1"
   ]
  },
  {
   "cell_type": "code",
   "execution_count": 125,
   "metadata": {},
   "outputs": [
    {
     "data": {
      "text/plain": [
       "{'apple', 'mango', 'orange'}"
      ]
     },
     "execution_count": 125,
     "metadata": {},
     "output_type": "execute_result"
    }
   ],
   "source": [
    "set1.discard(\"cherry\")      #does nothing if nothing is found\n",
    "set1"
   ]
  },
  {
   "cell_type": "code",
   "execution_count": 126,
   "metadata": {},
   "outputs": [
    {
     "data": {
      "text/plain": [
       "{'apple', 'mango'}"
      ]
     },
     "execution_count": 126,
     "metadata": {},
     "output_type": "execute_result"
    }
   ],
   "source": [
    "set1.pop()      #random removal of element\n",
    "set1"
   ]
  },
  {
   "cell_type": "code",
   "execution_count": 127,
   "metadata": {},
   "outputs": [
    {
     "name": "stdout",
     "output_type": "stream",
     "text": [
      "{'mango', 'apple'}   {'brinjal', 'orange', 'carrot', 'tomato'}  \n",
      " {'orange', 'tomato', 'apple', 'mango', 'carrot', 'brinjal'}\n"
     ]
    }
   ],
   "source": [
    "set2 = {\"carrot\",\"tomato\",\"brinjal\",\"orange\"}\n",
    "#set3 = set1.union(set2)\n",
    "set3 = set1 | set2\n",
    "print(set1,\" \",set2,\" \\n\", set3)"
   ]
  },
  {
   "cell_type": "code",
   "execution_count": 128,
   "metadata": {},
   "outputs": [
    {
     "data": {
      "text/plain": [
       "set()"
      ]
     },
     "execution_count": 128,
     "metadata": {},
     "output_type": "execute_result"
    }
   ],
   "source": [
    "#set4 = set1.intersection(set2)\n",
    "set4 = set1 & set2\n",
    "set4"
   ]
  },
  {
   "cell_type": "code",
   "execution_count": 129,
   "metadata": {},
   "outputs": [
    {
     "data": {
      "text/plain": [
       "{'apple', 'mango'}"
      ]
     },
     "execution_count": 129,
     "metadata": {},
     "output_type": "execute_result"
    }
   ],
   "source": [
    "#set difference\n",
    "set5 = set3.symmetric_difference(set2)\n",
    "set5"
   ]
  },
  {
   "cell_type": "markdown",
   "metadata": {},
   "source": [
    "Exercise 8"
   ]
  },
  {
   "cell_type": "code",
   "execution_count": 130,
   "metadata": {},
   "outputs": [
    {
     "name": "stdout",
     "output_type": "stream",
     "text": [
      "{'name': 'John Doe', 'age': 28, 'major': 'Computer Science', 'gpa': 3.8, 'city': 'New York', 'Grade': 'A'}\n",
      "{'name': 'John Doe', 'age': 28, 'major': 'Computer Science', 'gpa': 3.8, 'Grade': 'A'}\n",
      "dict_keys(['name', 'age', 'major', 'gpa', 'Grade'])\n",
      "dict_values(['John Doe', 28, 'Computer Science', 3.8, 'A'])\n"
     ]
    }
   ],
   "source": [
    "#Creating dictionary, adding new key value pair,removing a key and print all the keys and values\n",
    "info ={\n",
    "    \"name\":\"John Doe\",\n",
    "    \"age\":28,\n",
    "    \"major\":\"Computer Science\",\n",
    "    \"gpa\":3.8,\n",
    "    \"city\":\"New York\"\n",
    "}\n",
    "\n",
    "info[\"Grade\"]=\"A\"\n",
    "print(info)\n",
    "\n",
    "info.pop(\"city\")\n",
    "print(info)\n",
    "\n",
    "print(info.keys())\n",
    "print(info.values())"
   ]
  },
  {
   "cell_type": "code",
   "execution_count": 131,
   "metadata": {},
   "outputs": [
    {
     "name": "stdout",
     "output_type": "stream",
     "text": [
      "{'mango', 'apple'}\n",
      "{'Fish', 'Chicken', 'Pork', 'Eggs'}\n",
      "Union: set() \n",
      "Intersection: {'Fish', 'Pork', 'Eggs', 'apple', 'mango', 'Chicken'}\n"
     ]
    }
   ],
   "source": [
    "#Creating 2 sets and finding intersection and union\n",
    "print(set1)\n",
    "set5 = {\"Eggs\",\"Chicken\",\"Fish\",\"Pork\"}\n",
    "print(set5)\n",
    "\n",
    "print(f\"Union: {set1 & set5} \\nIntersection: {set1 | set5}\")\n"
   ]
  },
  {
   "cell_type": "markdown",
   "metadata": {},
   "source": [
    "List Comprehension"
   ]
  },
  {
   "cell_type": "code",
   "execution_count": 132,
   "metadata": {},
   "outputs": [
    {
     "name": "stdout",
     "output_type": "stream",
     "text": [
      "[0, 1, 4, 9, 16]\n"
     ]
    }
   ],
   "source": [
    "#traditional method\n",
    "listx = []\n",
    "for i in range(5):\n",
    "    listx.append(i**2)\n",
    "print(listx)"
   ]
  },
  {
   "cell_type": "code",
   "execution_count": 133,
   "metadata": {},
   "outputs": [
    {
     "name": "stdout",
     "output_type": "stream",
     "text": [
      "[0, 1, 4, 9, 16]\n"
     ]
    }
   ],
   "source": [
    "#list comprehension method:fast execution,less code\n",
    "list1 = [i**2 for i in range(5)]\n",
    "print(list1)"
   ]
  },
  {
   "cell_type": "markdown",
   "metadata": {},
   "source": [
    "List comprehension if-else statements"
   ]
  },
  {
   "cell_type": "code",
   "execution_count": 134,
   "metadata": {},
   "outputs": [
    {
     "name": "stdout",
     "output_type": "stream",
     "text": [
      "['Even', 'Odd', 'Even', 'Odd', 'Even']\n"
     ]
    }
   ],
   "source": [
    "#traditional method\n",
    "label = []\n",
    "for x in range(5):\n",
    "    if x % 2 == 0:\n",
    "        label.append(\"Even\")\n",
    "    else:\n",
    "        label.append(\"Odd\")\n",
    "print(label)"
   ]
  },
  {
   "cell_type": "code",
   "execution_count": 135,
   "metadata": {},
   "outputs": [
    {
     "name": "stdout",
     "output_type": "stream",
     "text": [
      "['Even', 'Odd', 'Even', 'Odd', 'Even']\n"
     ]
    }
   ],
   "source": [
    "labels = [\"Even\" if x % 2 == 0 else \"Odd\" for x in range(5)]\n",
    "print(labels)"
   ]
  },
  {
   "cell_type": "markdown",
   "metadata": {},
   "source": [
    "List comprehension in nested loop"
   ]
  },
  {
   "cell_type": "code",
   "execution_count": 136,
   "metadata": {},
   "outputs": [
    {
     "name": "stdout",
     "output_type": "stream",
     "text": [
      "[[0, 1, 2], [0, 1, 2], [0, 1, 2]]\n"
     ]
    }
   ],
   "source": [
    "#traditional method\n",
    "matrics = []\n",
    "for i in range(3):\n",
    "    row = []\n",
    "    for j in range(3):\n",
    "        row.append(j)\n",
    "    matrics.append(row)\n",
    "print(matrics)\n",
    "    "
   ]
  },
  {
   "cell_type": "code",
   "execution_count": 137,
   "metadata": {},
   "outputs": [
    {
     "name": "stdout",
     "output_type": "stream",
     "text": [
      "[[0, 1, 2], [0, 1, 2], [0, 1, 2]]\n"
     ]
    }
   ],
   "source": [
    "matrix = [[j for j in range(3)]for i in range(3)]\n",
    "print(matrix)"
   ]
  },
  {
   "cell_type": "code",
   "execution_count": 138,
   "metadata": {},
   "outputs": [
    {
     "name": "stdout",
     "output_type": "stream",
     "text": [
      "[[['papaya', 'cherry', 'orange'], ['papaya', 'cherry', 'orange'], ['papaya', 'cherry', 'orange']], [['papaya', 'cherry', 'orange'], ['papaya', 'cherry', 'orange'], ['papaya', 'cherry', 'orange']], [['papaya', 'cherry', 'orange'], ['papaya', 'cherry', 'orange'], ['papaya', 'cherry', 'orange']]]\n"
     ]
    }
   ],
   "source": [
    "matrix = [[fruits for j in range(3)]for i in range(3)]\n",
    "print(matrix)"
   ]
  },
  {
   "cell_type": "markdown",
   "metadata": {},
   "source": [
    "8 April 2025"
   ]
  },
  {
   "cell_type": "markdown",
   "metadata": {},
   "source": [
    "list comprehension in Functions"
   ]
  },
  {
   "cell_type": "code",
   "execution_count": 139,
   "metadata": {},
   "outputs": [
    {
     "name": "stdout",
     "output_type": "stream",
     "text": [
      "[0, 1, 4, 9, 16]\n"
     ]
    }
   ],
   "source": [
    "#traditional method\n",
    "def square(n):\n",
    "    return n*n\n",
    "\n",
    "square_list1 = []\n",
    "for x in range(5):\n",
    "    square_list1.append(square(x))\n",
    "print(square_list1)"
   ]
  },
  {
   "cell_type": "code",
   "execution_count": 140,
   "metadata": {},
   "outputs": [
    {
     "name": "stdout",
     "output_type": "stream",
     "text": [
      "[0, 1, 4, 9, 16]\n"
     ]
    }
   ],
   "source": [
    "def square(n):\n",
    "    return n*n\n",
    "\n",
    "square_list2 = [square(x) for x in range(5)]\n",
    "print(square_list2)"
   ]
  },
  {
   "cell_type": "markdown",
   "metadata": {},
   "source": [
    "Exercise 9"
   ]
  },
  {
   "cell_type": "code",
   "execution_count": 141,
   "metadata": {},
   "outputs": [
    {
     "name": "stdout",
     "output_type": "stream",
     "text": [
      "['i', 'e', 'a', 'o', 'a', 'e', 'o', 'u', 'o', 'i', 'o', 'i', 'o', 'u', 'o', 'u', 'e', 'o', 'e', 'a', 'i', 'e', 'o', 'i', 'o', 'i', 'e', 'o', 'e', 'e', 'i', 'u', 'i', 'e']\n"
     ]
    }
   ],
   "source": [
    "string1 = \"Hi beta, how are you doing,how is your younger brother, what is he doing now, did he complete his studies?\"\n",
    "\n",
    "           \n",
    "vowels = [char for char in string1 if char.lower() in \"aeiou\"]\n",
    "print(vowels)"
   ]
  },
  {
   "cell_type": "code",
   "execution_count": 142,
   "metadata": {},
   "outputs": [
    {
     "name": "stdout",
     "output_type": "stream",
     "text": [
      "[3, 6, 9, 12, 15, 18, 21, 24, 27, 30]\n"
     ]
    }
   ],
   "source": [
    "#list of numbers divisible by 3 from 1-30\n",
    "numbers =[i for i in range(1,31) if i % 3 == 0]\n",
    "print(numbers)"
   ]
  },
  {
   "cell_type": "code",
   "execution_count": 143,
   "metadata": {},
   "outputs": [
    {
     "name": "stdout",
     "output_type": "stream",
     "text": [
      "[41.0, 122.0, 221.0, 199.4, 80.6, 140.0, 143.6]\n"
     ]
    }
   ],
   "source": [
    "#list of celsius temperature from celsius to Fahrenheit\n",
    "celsius = [5,50,105,93,27,60,62]\n",
    "def fahren(c):\n",
    "    c1 = (c*9/5)+32\n",
    "    return c1\n",
    "\n",
    "f = [fahren(x) for x in celsius]\n",
    "print(f)\n"
   ]
  },
  {
   "cell_type": "code",
   "execution_count": 144,
   "metadata": {},
   "outputs": [
    {
     "name": "stdout",
     "output_type": "stream",
     "text": [
      "[41.0, 122.0, 221.0, 199.4, 80.6, 140.0, 143.6]\n"
     ]
    }
   ],
   "source": [
    "#easier way\n",
    "f1 = [temp * 9/5 + 32 for temp in celsius]\n",
    "print(f1)"
   ]
  },
  {
   "cell_type": "code",
   "execution_count": 145,
   "metadata": {},
   "outputs": [
    {
     "name": "stdout",
     "output_type": "stream",
     "text": [
      "[0, 1, 2, 0, 1, 2, 0, 1, 2]\n"
     ]
    }
   ],
   "source": [
    "#Flatten a 2D list using nested list comprehension(2D to 1D)\n",
    "flatted_list = [num for row in matrics for num in row]      #first (0,1,2) will get out of the matrix then next (0,1,2) will get out then last and this all elements will be kept in the flatted list when extracted\n",
    "print(flatted_list)"
   ]
  },
  {
   "cell_type": "code",
   "execution_count": 146,
   "metadata": {},
   "outputs": [
    {
     "name": "stdout",
     "output_type": "stream",
     "text": [
      "[1, 4, 9, 16, 25, 36, 49, 64, 81, 100]\n"
     ]
    }
   ],
   "source": [
    "#generate a list of sequence of squares of numbers from 1 to 10 using list comprehension\n",
    "sqs = [z**2 for z in range(1,11)]\n",
    "print(sqs)"
   ]
  },
  {
   "cell_type": "code",
   "execution_count": 147,
   "metadata": {},
   "outputs": [
    {
     "name": "stdout",
     "output_type": "stream",
     "text": [
      "[2, 4, 6, 8, 10, 12, 14, 16, 18, 20, 22, 24, 26, 28, 30, 32, 34, 36, 38, 40, 42, 44, 46, 48, 50, 52, 54, 56, 58, 60, 62, 64, 66, 68, 70, 72, 74, 76, 78, 80, 82, 84, 86, 88, 90, 92, 94, 96, 98, 100]\n"
     ]
    }
   ],
   "source": [
    "#filter out even number from a list of 1 to 100\n",
    "eves = [s for s in range(1,101) if s%2 == 0]\n",
    "print(eves)"
   ]
  },
  {
   "cell_type": "code",
   "execution_count": 148,
   "metadata": {},
   "outputs": [
    {
     "name": "stdout",
     "output_type": "stream",
     "text": [
      "Toyota\n",
      "Camry\n",
      "2009\n"
     ]
    }
   ],
   "source": [
    "Car = {\n",
    "    \"Brand\":\"Toyota\",\n",
    "    \"model\":\"Camry\",\n",
    "    \"year\":2009\n",
    "}\n",
    "\n",
    "print(Car[\"Brand\"])\n",
    "print(Car[\"model\"])\n",
    "print(Car[\"year\"])"
   ]
  },
  {
   "cell_type": "markdown",
   "metadata": {},
   "source": [
    "10 April 2025"
   ]
  },
  {
   "cell_type": "markdown",
   "metadata": {},
   "source": [
    "Dictionary comprehension"
   ]
  },
  {
   "cell_type": "code",
   "execution_count": 149,
   "metadata": {},
   "outputs": [
    {
     "name": "stdout",
     "output_type": "stream",
     "text": [
      "{1: 1, 2: 4, 3: 9, 4: 16, 5: 25, 6: 36, 7: 49, 8: 64, 9: 81}\n"
     ]
    }
   ],
   "source": [
    "nums3 = [1,2,3,4,5,6,7,8,9]\n",
    "squares = {x:x**2 for x in nums3}\n",
    "print(squares)"
   ]
  },
  {
   "cell_type": "code",
   "execution_count": 150,
   "metadata": {},
   "outputs": [
    {
     "data": {
      "text/plain": [
       "[1, 2, 3, 4, 6, 7, 8, 9, 10, 11, 12, 13, 14, 15]"
      ]
     },
     "execution_count": 150,
     "metadata": {},
     "output_type": "execute_result"
    }
   ],
   "source": [
    "n1"
   ]
  },
  {
   "cell_type": "code",
   "execution_count": 151,
   "metadata": {},
   "outputs": [
    {
     "data": {
      "text/plain": [
       "[3, 6, 9, 12, 15, 18, 21, 24, 27, 30]"
      ]
     },
     "execution_count": 151,
     "metadata": {},
     "output_type": "execute_result"
    }
   ],
   "source": [
    "numbers"
   ]
  },
  {
   "cell_type": "code",
   "execution_count": 152,
   "metadata": {},
   "outputs": [
    {
     "name": "stdout",
     "output_type": "stream",
     "text": [
      "{1: 5, 2: 10, 3: 15, 4: 20, 5: 25, 6: 30, 7: 35, 8: 40, 9: 45}\n"
     ]
    }
   ],
   "source": [
    "dict2 = {x:x*5 for x in nums3}\n",
    "print(dict2)"
   ]
  },
  {
   "cell_type": "code",
   "execution_count": 153,
   "metadata": {},
   "outputs": [
    {
     "name": "stdout",
     "output_type": "stream",
     "text": [
      "{2: 4, 4: 16, 6: 36, 8: 64}\n"
     ]
    }
   ],
   "source": [
    "dict3 = {x:x**2 for x in nums3 if x%2 == 0}\n",
    "print(dict3)"
   ]
  },
  {
   "cell_type": "code",
   "execution_count": 154,
   "metadata": {},
   "outputs": [
    {
     "name": "stdout",
     "output_type": "stream",
     "text": [
      "{0: 0, 2: 4, 4: 16, 6: 36, 8: 64}\n",
      "{1: 1, 3: 9, 5: 25, 7: 49, 9: 81}\n",
      "{0: 0, 6: 36}\n",
      "{0: 0, 2: 4, 3: 9, 4: 16, 6: 36, 8: 64, 9: 81}\n"
     ]
    }
   ],
   "source": [
    "dict4 = {x:x**2 for x in range(10) if x%2 == 0}\n",
    "print(dict4)\n",
    "dict5 = {x:x**2 for x in range(10) if x%2 != 0}\n",
    "print(dict5)\n",
    "dict6 = {x:x**2 for x in range(10) if x%2 == 0 and x%3 == 0}\n",
    "print(dict6)\n",
    "dict7 = {x:x**2 for x in range(10) if x%2 == 0 or x%3 == 0}\n",
    "print(dict7)"
   ]
  },
  {
   "cell_type": "code",
   "execution_count": 155,
   "metadata": {},
   "outputs": [
    {
     "name": "stdout",
     "output_type": "stream",
     "text": [
      "{'New York': 32.0, 'London': 50.0, 'Delhi': 41.0}\n"
     ]
    }
   ],
   "source": [
    "Celsius = {\"New York\": 0 ,\n",
    "           \"London\":10,\n",
    "           \"Delhi\":5}\n",
    "Fahrenheit = {city:(temp * 9/5)+32 for city,temp in Celsius.items()}\n",
    "print(Fahrenheit)"
   ]
  },
  {
   "cell_type": "code",
   "execution_count": 156,
   "metadata": {},
   "outputs": [
    {
     "name": "stdout",
     "output_type": "stream",
     "text": [
      "{'a': 1, 'b': 2, 'c': 3}\n",
      "{1: 'a', 2: 'b', 3: 'c'}\n",
      "{1: 'a', 2: 'b', 3: 'c'}\n"
     ]
    }
   ],
   "source": [
    "Original = {\n",
    "    \"a\":1,\n",
    "    \"b\":2,\n",
    "    \"c\":3\n",
    "}\n",
    "print(Original)\n",
    "swapped = {value:key for key,value in Original.items()}\n",
    "print(swapped)\n",
    "\n",
    "Copy = {key:value for value,key in Original.items()}\n",
    "print(Copy)"
   ]
  },
  {
   "cell_type": "code",
   "execution_count": 157,
   "metadata": {},
   "outputs": [
    {
     "name": "stdout",
     "output_type": "stream",
     "text": [
      "{'Bob': {'Maths': 95, 'Physics': 85, 'Chemistry': 75}, 'Alice': {'Maths': 90, 'Physics': 80, 'Chemistry': 100}, 'Charlie': {'Maths': 85, 'Physics': 75, 'Chemistry': 65}}\n"
     ]
    }
   ],
   "source": [
    "student1 = {\n",
    "    \"Bob\": {\"Maths\":90,\"Physics\":80,\"Chemistry\":70},\n",
    "    \"Alice\": {\"Maths\":85,\"Physics\":75,\"Chemistry\":95},\n",
    "    \"Charlie\": {\"Maths\":80,\"Physics\":70,\"Chemistry\":60}\n",
    "}\n",
    "\n",
    "grade_boost = {student1 : {subject:marks + 5 for subject,marks in grades.items()}\n",
    "               for student1,grades in student1.items()}\n",
    "print(grade_boost)"
   ]
  },
  {
   "cell_type": "markdown",
   "metadata": {},
   "source": [
    "Set Comprehension"
   ]
  },
  {
   "cell_type": "code",
   "execution_count": 158,
   "metadata": {},
   "outputs": [
    {
     "name": "stdout",
     "output_type": "stream",
     "text": [
      "{2, 4, 6, 8, 10, 12, 14, 16, 18}\n"
     ]
    }
   ],
   "source": [
    "squres = {x*2 for x in range(1,10)}\n",
    "print(squres)"
   ]
  },
  {
   "cell_type": "code",
   "execution_count": 159,
   "metadata": {},
   "outputs": [],
   "source": [
    "numbers.append(18)"
   ]
  },
  {
   "cell_type": "code",
   "execution_count": 160,
   "metadata": {},
   "outputs": [
    {
     "name": "stdout",
     "output_type": "stream",
     "text": [
      "{3, 6, 9, 12, 15, 18, 21, 24, 27, 30}\n"
     ]
    }
   ],
   "source": [
    "n4 ={num for num in numbers}\n",
    "print(n4)"
   ]
  },
  {
   "cell_type": "code",
   "execution_count": 161,
   "metadata": {},
   "outputs": [
    {
     "name": "stdout",
     "output_type": "stream",
     "text": [
      "{6, 12, 18, 24, 30}\n"
     ]
    }
   ],
   "source": [
    "even = {x for x in numbers if x%2 == 0}\n",
    "print(even)"
   ]
  },
  {
   "cell_type": "code",
   "execution_count": 162,
   "metadata": {},
   "outputs": [
    {
     "name": "stdout",
     "output_type": "stream",
     "text": [
      "[0, 2, 4, 6, 8]\n"
     ]
    }
   ],
   "source": [
    "even_no = []\n",
    "for x in range(10):\n",
    "    if x%2 == 0:\n",
    "        even_no.append(x)\n",
    "print(even_no)"
   ]
  },
  {
   "cell_type": "code",
   "execution_count": 163,
   "metadata": {},
   "outputs": [
    {
     "name": "stdout",
     "output_type": "stream",
     "text": [
      "{1, 'Negative', 2}\n"
     ]
    }
   ],
   "source": [
    "positive_negative = {x if x>0 else \"Negative\"for x in [-2,-1,0,1,2]}\n",
    "print(positive_negative)"
   ]
  },
  {
   "cell_type": "code",
   "execution_count": 164,
   "metadata": {},
   "outputs": [
    {
     "name": "stdout",
     "output_type": "stream",
     "text": [
      "{'Positive', -2, -1}\n"
     ]
    }
   ],
   "source": [
    "n_p = {x if x<0 else \"Positive\" for x in [-2,-1,0,1,2]}\n",
    "print(n_p)          #no duplicates"
   ]
  },
  {
   "cell_type": "code",
   "execution_count": 165,
   "metadata": {},
   "outputs": [
    {
     "name": "stdout",
     "output_type": "stream",
     "text": [
      "{64, 1, 4, 36, 100, 9, 16, 49, 81, 25}\n"
     ]
    }
   ],
   "source": [
    "def square(x):\n",
    "    return x*x\n",
    "\n",
    "square_set = {square(num) for num in range(1,11)}\n",
    "print(square_set)       #always unordered"
   ]
  },
  {
   "cell_type": "markdown",
   "metadata": {},
   "source": [
    "Exercise\n"
   ]
  },
  {
   "cell_type": "code",
   "execution_count": 166,
   "metadata": {},
   "outputs": [
    {
     "name": "stdout",
     "output_type": "stream",
     "text": [
      "set()\n"
     ]
    }
   ],
   "source": [
    "# Extract unique vowels from a sentence\n",
    "# write a python program that extracts all unique vowel from a user input sentence using set comprehension.\n",
    "sentence = input(\"Enter a sentence:\")\n",
    "vowels = {char for char in sentence if char.lower() in \"aeiouAEIOU\"}\n",
    "print(vowels)"
   ]
  },
  {
   "cell_type": "code",
   "execution_count": 167,
   "metadata": {},
   "outputs": [
    {
     "name": "stdout",
     "output_type": "stream",
     "text": [
      "{64, 256, 100, 4, 36, 196, 324, 16, 144, 400}\n"
     ]
    }
   ],
   "source": [
    "#set of squares of even numbers from 1 to 20\n",
    "sq_set = {x**2 for x in range(1,21) if x%2 == 0}\n",
    "print(sq_set)"
   ]
  },
  {
   "cell_type": "markdown",
   "metadata": {},
   "source": [
    "Tuple comprehension"
   ]
  },
  {
   "cell_type": "code",
   "execution_count": 168,
   "metadata": {},
   "outputs": [
    {
     "name": "stdout",
     "output_type": "stream",
     "text": [
      "(1, 4, 9, 16, 25, 36, 49, 64, 81, 100)\n"
     ]
    }
   ],
   "source": [
    "t1 = (x**2 for x in range(1,11))\n",
    "print(tuple(t1))           #this is a generator expression, it will not print anything until we iterate through it\n",
    "       #this will print the values one by one"
   ]
  },
  {
   "cell_type": "code",
   "execution_count": 169,
   "metadata": {},
   "outputs": [
    {
     "name": "stdout",
     "output_type": "stream",
     "text": [
      "<generator object <genexpr> at 0x000001F7ECD34930>\n",
      "1\n",
      "4\n",
      "9\n",
      "16\n",
      "25\n",
      "36\n",
      "49\n",
      "64\n",
      "81\n",
      "100\n"
     ]
    }
   ],
   "source": [
    "t1 = (x**2 for x in range(1,11))\n",
    "print(t1)  \n",
    "for i in t1:\n",
    "    print(i)       #this will print the values one by one\n",
    "#this is a generator expression, it will not print anything until we iterate through it"
   ]
  },
  {
   "cell_type": "code",
   "execution_count": 170,
   "metadata": {},
   "outputs": [
    {
     "name": "stdout",
     "output_type": "stream",
     "text": [
      "('Negative', 'Negative', 'Negative', 1, 2)\n"
     ]
    }
   ],
   "source": [
    "t2 = (x if x>0 else \"Negative\" for x in [-2,-1,0,1,2])\n",
    "print(tuple(t2))       #this is a generator expression, it will not print anything until we iterate through it"
   ]
  },
  {
   "cell_type": "code",
   "execution_count": 171,
   "metadata": {},
   "outputs": [
    {
     "name": "stdout",
     "output_type": "stream",
     "text": [
      "(1, 8, 27, 64, 125, 216, 343, 512, 729, 1000, 1331, 1728, 2197, 2744, 3375, 4096, 4913, 5832, 6859, 8000)\n"
     ]
    }
   ],
   "source": [
    "def cube(x):\n",
    "    return x**3\n",
    "\n",
    "cube_t3 = (cube(x) for x in range(1,21))\n",
    "print(tuple(cube_t3))"
   ]
  },
  {
   "cell_type": "code",
   "execution_count": 172,
   "metadata": {},
   "outputs": [
    {
     "name": "stdout",
     "output_type": "stream",
     "text": [
      "[3, 6, 9, 12, 15, 18, 21, 24, 27, 30, 18]\n",
      "(12, 24)\n"
     ]
    }
   ],
   "source": [
    "print(numbers)\n",
    "even = (x for x in numbers if x%4 == 0)\n",
    "print(tuple(even))"
   ]
  },
  {
   "cell_type": "code",
   "execution_count": 173,
   "metadata": {},
   "outputs": [
    {
     "name": "stdout",
     "output_type": "stream",
     "text": [
      "('C', 'O', 'N', 'V', 'E', 'R', 'T', ' ', 'A', ' ', 'S', 'T', 'R', 'I', 'N', 'G', ' ', 'O', 'F', ' ', 'C', 'H', 'A', 'R', 'A', 'C', 'T', 'E', 'R', 'S', ' ', 'T', 'O', ' ', 'U', 'P', 'P', 'E', 'R', 'C', 'A', 'S', 'E', ' ', 'T', 'H', 'R', 'O', 'U', 'G', 'H', ' ', 'T', 'U', 'P', 'L', 'E', ' ', 'C', 'O', 'M', 'P', 'R', 'E', 'H', 'E', 'N', 'S', 'I', 'O', 'N')\n"
     ]
    }
   ],
   "source": [
    "#convert a string of characters to uppercase through tuple comprehension\n",
    "string = \"convert a string of characters to uppercase through tuple comprehension\"\n",
    "string1 = (char.upper() for char in string)\n",
    "print(tuple(string1))       #this is a generator expression, it will not print anything until we iterate through it"
   ]
  },
  {
   "cell_type": "code",
   "execution_count": 174,
   "metadata": {},
   "outputs": [
    {
     "name": "stdout",
     "output_type": "stream",
     "text": [
      "('MANGO', 'BANANA', 'APPLE', 'GRAPES')\n"
     ]
    }
   ],
   "source": [
    "st2 = [\"Mango\",\"Banana\",\"Apple\",\"Grapes\"]\n",
    "string2 = (char.upper() for char in st2)\n",
    "print(tuple(string2))       #this is a generator expression, it will not print anything until we iterate through it "
   ]
  },
  {
   "cell_type": "code",
   "execution_count": 175,
   "metadata": {},
   "outputs": [
    {
     "name": "stdout",
     "output_type": "stream",
     "text": [
      "('MANGO', 'BANANA', 'APPLE', 'GRAPES')\n"
     ]
    }
   ],
   "source": [
    "upper_words = tuple(map(str.upper,st2))  #this will convert all the words to uppercase\n",
    "print(upper_words)"
   ]
  },
  {
   "cell_type": "code",
   "execution_count": 176,
   "metadata": {},
   "outputs": [
    {
     "name": "stdout",
     "output_type": "stream",
     "text": [
      "['MANGO', 'BANANA', 'APPLE', 'GRAPES']\n"
     ]
    }
   ],
   "source": [
    "upper_words = [word.upper() for word in st2]  #this will convert all the words to uppercase\n",
    "print(upper_words)"
   ]
  },
  {
   "cell_type": "code",
   "execution_count": 177,
   "metadata": {},
   "outputs": [
    {
     "name": "stdout",
     "output_type": "stream",
     "text": [
      "(0.5, 1.0, 1.5, 2.0, 2.5)\n"
     ]
    }
   ],
   "source": [
    "#tuple comprehension of square roots from 1 to 5\n",
    "t3 = (x*0.5 for x in range(1,6))\n",
    "print(tuple(t3))       #this is a generator expression, it will not print anything until we iterate through it"
   ]
  },
  {
   "cell_type": "code",
   "execution_count": 178,
   "metadata": {},
   "outputs": [
    {
     "data": {
      "text/plain": [
       "[0, 1, 4, 9, 16]"
      ]
     },
     "execution_count": 178,
     "metadata": {},
     "output_type": "execute_result"
    }
   ],
   "source": [
    "square_list2"
   ]
  },
  {
   "cell_type": "code",
   "execution_count": 179,
   "metadata": {},
   "outputs": [
    {
     "name": "stdout",
     "output_type": "stream",
     "text": [
      "(2.0, 4.0, 6.0, 5.0, 9.0, 20.0)\n"
     ]
    }
   ],
   "source": [
    "import math\n",
    "sq = [4,16,36,25,81,400]\n",
    "\n",
    "t4 = tuple(map(math.sqrt,sq))\n",
    "print(t4)"
   ]
  },
  {
   "cell_type": "markdown",
   "metadata": {},
   "source": [
    "Functions"
   ]
  },
  {
   "cell_type": "code",
   "execution_count": 180,
   "metadata": {},
   "outputs": [
    {
     "name": "stdout",
     "output_type": "stream",
     "text": [
      "272\n"
     ]
    }
   ],
   "source": [
    "def add(x,y):\n",
    "    return x+y\n",
    "\n",
    "print(add(57,215))"
   ]
  },
  {
   "cell_type": "code",
   "execution_count": null,
   "metadata": {},
   "outputs": [
    {
     "name": "stdout",
     "output_type": "stream",
     "text": [
      "Hi raj, you are 16 years old.\n"
     ]
    }
   ],
   "source": [
    "def greet(name,ag):            #positional arguments(strings store string and int store int)\n",
    "    \"\"\" This function greets the user with their name and age \"\"\"\n",
    "    print(f\"Hi {name}, you are {ag} years old.\")\n",
    "\n",
    "nam = input(\"Enter name:\")      #raj\n",
    "ag = int(input(\"Enter age:\"))   #16\n",
    "greet(nam,ag)"
   ]
  },
  {
   "cell_type": "code",
   "execution_count": null,
   "metadata": {},
   "outputs": [
    {
     "name": "stdout",
     "output_type": "stream",
     "text": [
      "Hi John, you are 25 years old.\n",
      "Hi John, you are 25 years old.\n"
     ]
    }
   ],
   "source": [
    "#keyword arguments(their order does not matter)\n",
    "greet(name=\"John\",age=25)\n",
    "greet(age=25,name=\"John\")"
   ]
  },
  {
   "cell_type": "code",
   "execution_count": null,
   "metadata": {},
   "outputs": [
    {
     "name": "stdout",
     "output_type": "stream",
     "text": [
      "25\n"
     ]
    }
   ],
   "source": [
    "def power(base,exponent = 2):\n",
    "    return base ** exponent\n",
    "print(power(5))"
   ]
  },
  {
   "cell_type": "code",
   "execution_count": null,
   "metadata": {},
   "outputs": [
    {
     "name": "stdout",
     "output_type": "stream",
     "text": [
      "15\n"
     ]
    }
   ],
   "source": [
    "def sum_all(*args):\n",
    "    \"\"\" This function takes any number of arguments and returns their sum \"\"\"\n",
    "    return sum(args)\n",
    "print(sum_all(1,2,3,4,5))"
   ]
  },
  {
   "cell_type": "code",
   "execution_count": null,
   "metadata": {},
   "outputs": [
    {
     "name": "stdout",
     "output_type": "stream",
     "text": [
      "name:John\n",
      "age:25\n",
      "city:New York\n"
     ]
    }
   ],
   "source": [
    "def print_info(**info):\n",
    "    for key,value in info.items():\n",
    "        print(f\"{key}:{value}\")\n",
    "\n",
    "print_info(name=\"John\",age=25,city=\"New York\")"
   ]
  },
  {
   "cell_type": "markdown",
   "metadata": {},
   "source": [
    "11 April 2025"
   ]
  },
  {
   "cell_type": "code",
   "execution_count": null,
   "metadata": {},
   "outputs": [
    {
     "name": "stdout",
     "output_type": "stream",
     "text": [
      "16\n"
     ]
    }
   ],
   "source": [
    "#lambda arguments: expression\n",
    "add = lambda x,y : x+y\n",
    "print(add(7,9))"
   ]
  },
  {
   "cell_type": "code",
   "execution_count": null,
   "metadata": {},
   "outputs": [
    {
     "name": "stdout",
     "output_type": "stream",
     "text": [
      "25\n"
     ]
    }
   ],
   "source": [
    "print((lambda x:x**2)(5))"
   ]
  },
  {
   "cell_type": "markdown",
   "metadata": {},
   "source": [
    "Exercise"
   ]
  },
  {
   "cell_type": "code",
   "execution_count": null,
   "metadata": {},
   "outputs": [
    {
     "name": "stdout",
     "output_type": "stream",
     "text": [
      "2\n"
     ]
    }
   ],
   "source": [
    "#factorial of a function\n",
    "def factorial(n):\n",
    "    if n==0 or n==1:\n",
    "        return n\n",
    "    else:\n",
    "        return n*factorial(n-1)\n",
    "    \n",
    "# num = int(input(\"Enter a number:\"))\n",
    "# print(f\"The factorial of {num} is {factorial(num)}\")\n",
    "print(factorial(2))"
   ]
  },
  {
   "cell_type": "code",
   "execution_count": null,
   "metadata": {},
   "outputs": [
    {
     "name": "stdout",
     "output_type": "stream",
     "text": [
      "(2, 4, 6, 8, 10)\n"
     ]
    }
   ],
   "source": [
    "#filter even numbers using lambda functions from a list\n",
    "numbers = [1,2,3,4,5,6,7,8,9,10]\n",
    "\n",
    "even_numbers = lambda x: x % 2 == 0\n",
    "print(tuple(filter(even_numbers, numbers)))  # filter function will filter the even numbers from the list and return a new list with only even numbers"
   ]
  },
  {
   "cell_type": "markdown",
   "metadata": {},
   "source": [
    "Exercises"
   ]
  },
  {
   "cell_type": "code",
   "execution_count": null,
   "metadata": {},
   "outputs": [
    {
     "name": "stdout",
     "output_type": "stream",
     "text": [
      "(104, 2)\n"
     ]
    }
   ],
   "source": [
    "#max and min in a list\n",
    "def max_min(numbers):\n",
    "    max_num = max(numbers)\n",
    "    min_num = min(numbers)\n",
    "    return max_num, min_num\n",
    "\n",
    "numbers = [104,2,37,4,5,16,7,8,9,10]\n",
    "print(max_min(numbers))"
   ]
  },
  {
   "cell_type": "code",
   "execution_count": null,
   "metadata": {},
   "outputs": [
    {
     "name": "stdout",
     "output_type": "stream",
     "text": [
      "Max:104 Min:2\n"
     ]
    }
   ],
   "source": [
    "MAX = max(numbers)\n",
    "MIN = min(numbers)\n",
    "print(f\"Max:{MAX} Min:{MIN}\")"
   ]
  },
  {
   "cell_type": "code",
   "execution_count": null,
   "metadata": {},
   "outputs": [
    {
     "data": {
      "text/plain": [
       "1"
      ]
     },
     "execution_count": 385,
     "metadata": {},
     "output_type": "execute_result"
    }
   ],
   "source": [
    "#occurance of a number\n",
    "numbers.count(4)"
   ]
  },
  {
   "cell_type": "code",
   "execution_count": null,
   "metadata": {},
   "outputs": [
    {
     "name": "stdout",
     "output_type": "stream",
     "text": [
      "{4, 5}\n"
     ]
    }
   ],
   "source": [
    "#common elements between two sets\n",
    "set1 = {1,2,3,4,5}\n",
    "set2 = {4,5,6,7,8}\n",
    "common_elements = set1&set2\n",
    "print(common_elements)"
   ]
  },
  {
   "cell_type": "code",
   "execution_count": null,
   "metadata": {},
   "outputs": [
    {
     "name": "stdout",
     "output_type": "stream",
     "text": [
      "{'a': 1, 'b': 2, 'c': 3, 'd': 4}\n"
     ]
    }
   ],
   "source": [
    "#list to dictionary\n",
    "list4 = [(\"a\",1),(\"b\",2),(\"c\",3),(\"d\",4)]\n",
    "dict8 = dict(list4)\n",
    "print(dict8)"
   ]
  },
  {
   "cell_type": "code",
   "execution_count": null,
   "metadata": {},
   "outputs": [
    {
     "name": "stdout",
     "output_type": "stream",
     "text": [
      "{'a': 1, 'b': 2, 'c': 3, 'd': 4, 'e': 5, 'f': 6}\n"
     ]
    }
   ],
   "source": [
    "#merging two dictionaries\n",
    "dict9 = {\n",
    "    \"a\":1,\n",
    "    \"b\":2,\n",
    "    \"c\":3   \n",
    "}\n",
    "dict10 = {\n",
    "    \"d\":4,\n",
    "    \"e\":5,\n",
    "    \"f\":6\n",
    "}\n",
    "dict11 = {**dict9,**dict10}\n",
    "print(dict11)"
   ]
  },
  {
   "cell_type": "code",
   "execution_count": null,
   "metadata": {},
   "outputs": [
    {
     "name": "stdout",
     "output_type": "stream",
     "text": [
      "atamotua laitneuqeS\n"
     ]
    }
   ],
   "source": [
    "def reverse_string(string3):\n",
    "    print(string3[::-1])\n",
    "\n",
    "string3 = \"Sequential automata\"\n",
    "reverse_string(string3)"
   ]
  },
  {
   "cell_type": "code",
   "execution_count": 187,
   "metadata": {},
   "outputs": [
    {
     "name": "stdout",
     "output_type": "stream",
     "text": [
      "[1, 2, 3, 4, 5]\n"
     ]
    }
   ],
   "source": [
    "#remove duplicates from a list\n",
    "def remove_duplicates(list5):\n",
    "    return list(set(list5))\n",
    "\n",
    "list5 = [1,2,3,4,5,1,2,3,4,5]\n",
    "print(remove_duplicates(list5))"
   ]
  },
  {
   "cell_type": "code",
   "execution_count": null,
   "metadata": {},
   "outputs": [
    {
     "name": "stdout",
     "output_type": "stream",
     "text": [
      "True\n"
     ]
    }
   ],
   "source": [
    "#check if a key exists in a dictionary(Membership operator)\n",
    "person_info = {\n",
    "    \"name\":\"John\",\n",
    "    \"age\":30,\n",
    "    \"city\":\"New York\"\n",
    "}\n",
    "\n",
    "print(\"name\" in person_info)"
   ]
  },
  {
   "cell_type": "code",
   "execution_count": null,
   "metadata": {},
   "outputs": [
    {
     "name": "stdout",
     "output_type": "stream",
     "text": [
      "[1, 2, 3, 4, 5, 6, 7, 8, 9]\n"
     ]
    }
   ],
   "source": [
    "#Flatten a nested list using function\n",
    "def Flatten_list(nested_list):\n",
    "    return [item for sub_list in nested_list for item in sub_list]\n",
    "\n",
    "nested_list = [[1,2,3],[4,5,6],[7,8,9]]\n",
    "flattened_list = Flatten_list(nested_list)\n",
    "print(flattened_list)"
   ]
  },
  {
   "cell_type": "code",
   "execution_count": null,
   "metadata": {},
   "outputs": [
    {
     "name": "stdout",
     "output_type": "stream",
     "text": [
      "[(8, 10), (7, 9), (6, 8), (5, 7), (4, 6), (3, 5), (2, 4), (1, 3)]\n"
     ]
    }
   ],
   "source": [
    "#sorting by using second element\n",
    "data = {(1,3),(2,4),(3,5),(4,6),(5,7),(6,8),(7,9),(8,10)}\n",
    "\n",
    "sorted_data = sorted(data,key = lambda x:x[1], reverse = True)\n",
    "print(sorted_data)"
   ]
  },
  {
   "cell_type": "markdown",
   "metadata": {},
   "source": [
    "OOP introduction"
   ]
  },
  {
   "cell_type": "code",
   "execution_count": null,
   "metadata": {},
   "outputs": [
    {
     "name": "stdout",
     "output_type": "stream",
     "text": [
      "Toyota\n"
     ]
    }
   ],
   "source": [
    "class Car :\n",
    "    brand = \"Toyota\"\n",
    "    model = \"Camry\"\n",
    "    year = 2009\n",
    "car1 = Car()\n",
    "print(car1.brand)"
   ]
  },
  {
   "cell_type": "code",
   "execution_count": null,
   "metadata": {},
   "outputs": [
    {
     "name": "stdout",
     "output_type": "stream",
     "text": [
      "Canine\n"
     ]
    }
   ],
   "source": [
    "class Dog:\n",
    "    species = \"Canine\"\n",
    "    name = \"Buddy\"\n",
    "\n",
    "dog1 = Dog()\n",
    "print(dog1.species)"
   ]
  },
  {
   "cell_type": "code",
   "execution_count": null,
   "metadata": {},
   "outputs": [
    {
     "name": "stdout",
     "output_type": "stream",
     "text": [
      "Hello, my name is John\n"
     ]
    }
   ],
   "source": [
    "class Person:\n",
    "    name = \"John\"\n",
    "    def greet(self):\n",
    "        print(f\"Hello, my name is {self.name}\")\n",
    "person1 = Person()\n",
    "person1.greet()"
   ]
  },
  {
   "cell_type": "markdown",
   "metadata": {},
   "source": [
    "Pure functions\n",
    "\n",
    "gives same output for same input, no side effects"
   ]
  },
  {
   "cell_type": "code",
   "execution_count": null,
   "metadata": {},
   "outputs": [
    {
     "name": "stdout",
     "output_type": "stream",
     "text": [
      "The result of multiplication is: 15\n"
     ]
    }
   ],
   "source": [
    "def multiply(x,y):\n",
    "    return x*y\n",
    "\n",
    "result = multiply(5,3)\n",
    "print(f\"The result of multiplication is: {result}\")"
   ]
  },
  {
   "cell_type": "code",
   "execution_count": null,
   "metadata": {},
   "outputs": [
    {
     "name": "stdout",
     "output_type": "stream",
     "text": [
      "Hi Rajesh,How are you?\n"
     ]
    }
   ],
   "source": [
    "def concatenate_strings(s1 , s2):\n",
    "    return s1 + s2\n",
    "\n",
    "result = concatenate_strings(\"Hi Rajesh,\", \"How are you?\")\n",
    "print(result)"
   ]
  },
  {
   "cell_type": "markdown",
   "metadata": {},
   "source": [
    "Higher order function"
   ]
  },
  {
   "cell_type": "code",
   "execution_count": null,
   "metadata": {},
   "outputs": [
    {
     "name": "stdout",
     "output_type": "stream",
     "text": [
      "Result of addition: 8 and multiplication: 15\n"
     ]
    }
   ],
   "source": [
    "def apply_function(func, x , y):\n",
    "    return func(x, y)\n",
    "\n",
    "def add(x, y):\n",
    "    return x + y\n",
    "\n",
    "def multiply(x, y):\n",
    "    return x * y\n",
    "\n",
    "res1 = apply_function(add, 5, 3)\n",
    "res2 = apply_function(multiply, 5, 3)\n",
    "print(f\"Result of addition: {res1} and multiplication: {res2}\")"
   ]
  },
  {
   "cell_type": "code",
   "execution_count": null,
   "metadata": {},
   "outputs": [
    {
     "name": "stdout",
     "output_type": "stream",
     "text": [
      "5\n"
     ]
    }
   ],
   "source": [
    "def operation():\n",
    "    pass\n",
    "\n",
    "def add(x,y):\n",
    "    sum = x + y\n",
    "    return sum\n",
    "\n",
    "print(add(2,3))"
   ]
  },
  {
   "cell_type": "code",
   "execution_count": null,
   "metadata": {},
   "outputs": [
    {
     "name": "stdout",
     "output_type": "stream",
     "text": [
      "5\n"
     ]
    }
   ],
   "source": [
    "def operation(sum, x, y):\n",
    "    return sum(x, y)\n",
    "\n",
    "def add(x,y):\n",
    "    sum = x + y\n",
    "    return sum\n",
    "\n",
    "print(add(2,3))"
   ]
  },
  {
   "cell_type": "markdown",
   "metadata": {},
   "source": [
    "Lambda function"
   ]
  },
  {
   "cell_type": "code",
   "execution_count": null,
   "metadata": {},
   "outputs": [
    {
     "name": "stdout",
     "output_type": "stream",
     "text": [
      "343\n"
     ]
    }
   ],
   "source": [
    "cube = lambda x: x**3\n",
    "print(cube(7))"
   ]
  },
  {
   "cell_type": "code",
   "execution_count": null,
   "metadata": {},
   "outputs": [
    {
     "name": "stdout",
     "output_type": "stream",
     "text": [
      "Your name is Akash\n"
     ]
    }
   ],
   "source": [
    "result4 = lambda name: \"Your name is \" + name\n",
    "print(result4(\"Akash\"))"
   ]
  },
  {
   "cell_type": "code",
   "execution_count": null,
   "metadata": {},
   "outputs": [
    {
     "name": "stdout",
     "output_type": "stream",
     "text": [
      "[1, 4, 9, 16, 25]\n"
     ]
    }
   ],
   "source": [
    "#map function(map(function, iterable))\n",
    "def square(x):\n",
    "    return x**2\n",
    "\n",
    "numbers = [1,2,3,4,5]\n",
    "squared_numbers = list(map(square, numbers))\n",
    "print(squared_numbers)"
   ]
  },
  {
   "cell_type": "code",
   "execution_count": null,
   "metadata": {},
   "outputs": [
    {
     "name": "stdout",
     "output_type": "stream",
     "text": [
      "[1, 4, 9, 16, 25]\n"
     ]
    }
   ],
   "source": [
    "my_list = [1,2,3,4,5]\n",
    "squared_list = list(map(lambda x : x**2, my_list))\n",
    "print(squared_list)"
   ]
  },
  {
   "cell_type": "code",
   "execution_count": null,
   "metadata": {},
   "outputs": [
    {
     "name": "stdout",
     "output_type": "stream",
     "text": [
      "['APPLE', 'BANANA', 'CHERRY', 'KIWI', 'GRAPE']\n"
     ]
    }
   ],
   "source": [
    "#converting string in a list to uppercase using map function\n",
    "my_list1 = [\"apple\",\"banana\",\"cherry\",\"kiwi\",\"grape\"]\n",
    "upper_list = list(map(lambda x:x.upper(),my_list1))\n",
    "print(upper_list)\n"
   ]
  },
  {
   "cell_type": "code",
   "execution_count": null,
   "metadata": {},
   "outputs": [
    {
     "name": "stdout",
     "output_type": "stream",
     "text": [
      "[5, 6, 6, 4, 5]\n"
     ]
    }
   ],
   "source": [
    "length_of_list = list(map(lambda x:len(x),my_list1))\n",
    "print(length_of_list)"
   ]
  },
  {
   "cell_type": "code",
   "execution_count": null,
   "metadata": {},
   "outputs": [
    {
     "name": "stdout",
     "output_type": "stream",
     "text": [
      "[6, 14, 24, 36, 50]\n"
     ]
    }
   ],
   "source": [
    "#using map with multiple iterables\n",
    "my_list2 = [1,2,3,4,5]\n",
    "my_list3 = [6,7,8,9,10]\n",
    "mul = list(map(lambda x,y : x*y, my_list2,my_list3))\n",
    "print(mul)"
   ]
  },
  {
   "cell_type": "code",
   "execution_count": null,
   "metadata": {},
   "outputs": [
    {
     "name": "stdout",
     "output_type": "stream",
     "text": [
      "[6, 8, 10]\n"
     ]
    }
   ],
   "source": [
    "fil = list(filter(lambda x: x%2 == 0, my_list3))\n",
    "print(fil)"
   ]
  },
  {
   "cell_type": "code",
   "execution_count": null,
   "metadata": {},
   "outputs": [
    {
     "name": "stdout",
     "output_type": "stream",
     "text": [
      "['apple', 'banana', 'grape']\n"
     ]
    }
   ],
   "source": [
    "#filtering out string which contain specific substring using filter()\n",
    "filtered_list = list(filter(lambda x:'a' in x, my_list1))\n",
    "print(filtered_list)"
   ]
  },
  {
   "cell_type": "code",
   "execution_count": null,
   "metadata": {},
   "outputs": [
    {
     "name": "stdout",
     "output_type": "stream",
     "text": [
      "[-2, -9, 0, -1]\n"
     ]
    }
   ],
   "source": [
    "#negative number less than zero\n",
    "neg_num = list(filter(lambda x: x <= 0, [-2,5,6,-9,3,0,-1]))\n",
    "print(neg_num)"
   ]
  },
  {
   "cell_type": "code",
   "execution_count": null,
   "metadata": {},
   "outputs": [
    {
     "name": "stdout",
     "output_type": "stream",
     "text": [
      "['apple', 'banana', 'kiwi', 'grape']\n"
     ]
    }
   ],
   "source": [
    "#filtering out empty strings from a list using filter()\n",
    "my_list4 = [\"apple\",\"banana\",\"\",\"kiwi\",\"grape\"]\n",
    "filtered_list1 = list(filter(lambda x: x!=\"\", my_list4))\n",
    "print(filtered_list1)"
   ]
  },
  {
   "cell_type": "code",
   "execution_count": null,
   "metadata": {},
   "outputs": [
    {
     "name": "stdout",
     "output_type": "stream",
     "text": [
      "[3, 4]\n"
     ]
    }
   ],
   "source": [
    "#num greater than 2 and less than 5\n",
    "between_numbers = list(filter(lambda x: x>2 and x<5, my_list2))\n",
    "print(between_numbers)"
   ]
  },
  {
   "cell_type": "code",
   "execution_count": null,
   "metadata": {},
   "outputs": [
    {
     "name": "stdout",
     "output_type": "stream",
     "text": [
      "15\n",
      "120\n"
     ]
    }
   ],
   "source": [
    "#reduce function(reduce(function, iterable[,initializer]))\n",
    "from functools import reduce\n",
    "sum = reduce(lambda x,y : x+y, my_list)\n",
    "print(sum)\n",
    "prod = reduce(lambda x,y : x*y, my_list)\n",
    "print(prod)"
   ]
  },
  {
   "cell_type": "code",
   "execution_count": null,
   "metadata": {},
   "outputs": [
    {
     "name": "stdout",
     "output_type": "stream",
     "text": [
      "5\n"
     ]
    }
   ],
   "source": [
    "#maximum element of list using reduce function\n",
    "max_num = reduce(lambda x,y: x if x>y else y, my_list)\n",
    "print(max_num)"
   ]
  },
  {
   "cell_type": "code",
   "execution_count": null,
   "metadata": {},
   "outputs": [
    {
     "name": "stdout",
     "output_type": "stream",
     "text": [
      "apple, banana, cherry, kiwi, grape\n"
     ]
    }
   ],
   "source": [
    "#combining strings using reduce function\n",
    "combined_string = reduce(lambda x,y : x + ', ' + y, my_list1)\n",
    "print(combined_string)"
   ]
  },
  {
   "cell_type": "code",
   "execution_count": null,
   "metadata": {},
   "outputs": [
    {
     "name": "stdout",
     "output_type": "stream",
     "text": [
      "25\n"
     ]
    }
   ],
   "source": [
    "sum1 = reduce(lambda x,y : x+y, my_list,10)      #10 is the initializer value\n",
    "print(sum1)         #10+15"
   ]
  },
  {
   "cell_type": "code",
   "execution_count": null,
   "metadata": {},
   "outputs": [
    {
     "name": "stdout",
     "output_type": "stream",
     "text": [
      "1\n",
      "2\n",
      "3\n"
     ]
    }
   ],
   "source": [
    "#generator function\n",
    "#is a special type of iterator that returns iterator, which can be iterated over using a yield keyword\n",
    "#next function is used to retrieve next value\n",
    "def test(x,y,z):\n",
    "    yield x\n",
    "    yield y\n",
    "    yield z\n",
    "\n",
    "gen = test(1,2,3)\n",
    "print(next(gen))       #1\n",
    "print(next(gen))       #2\n",
    "print(next(gen))       #3\n",
    "#print(next(gen))       #StopIteration error"
   ]
  },
  {
   "cell_type": "code",
   "execution_count": null,
   "metadata": {},
   "outputs": [
    {
     "name": "stdout",
     "output_type": "stream",
     "text": [
      "0\n",
      "1\n",
      "2\n",
      "3\n",
      "4\n",
      "5\n",
      "6\n"
     ]
    }
   ],
   "source": [
    "def num_gen(n):\n",
    "    for i in range(n):\n",
    "        yield i\n",
    "\n",
    "gen1 = num_gen(7)\n",
    "print(next(gen1))       #0\n",
    "print(next(gen1))       #1  \n",
    "print(next(gen1))       #2\n",
    "print(next(gen1))       #3\n",
    "print(next(gen1))       #4\n",
    "print(next(gen1))       #5  \n",
    "print(next(gen1))       #6\n"
   ]
  },
  {
   "cell_type": "code",
   "execution_count": null,
   "metadata": {},
   "outputs": [
    {
     "name": "stdout",
     "output_type": "stream",
     "text": [
      "0\n",
      "1\n"
     ]
    }
   ],
   "source": [
    "#infinite generator function\n",
    "def gen2(n):\n",
    "    n = 0\n",
    "    while True:\n",
    "        yield n\n",
    "        n += 1\n",
    "\n",
    "gen2 = gen2(5)\n",
    "print(next(gen2))       #0\n",
    "print(next(gen2))       #1"
   ]
  },
  {
   "cell_type": "code",
   "execution_count": null,
   "metadata": {},
   "outputs": [
    {
     "name": "stdout",
     "output_type": "stream",
     "text": [
      "0\n",
      "1\n",
      "4\n",
      "9\n"
     ]
    }
   ],
   "source": [
    "def square_gen(n):\n",
    "    for i in range(n):\n",
    "        yield i**2\n",
    "\n",
    "gen3 = square_gen(5)\n",
    "print(next(gen3))       #0  \n",
    "print(next(gen3))       #1\n",
    "print(next(gen3))       #4\n",
    "print(next(gen3))       #9"
   ]
  },
  {
   "cell_type": "code",
   "execution_count": null,
   "metadata": {},
   "outputs": [
    {
     "name": "stdout",
     "output_type": "stream",
     "text": [
      "0\n",
      "2\n",
      "4\n"
     ]
    }
   ],
   "source": [
    "def even_gen(n):\n",
    "    for i in range(n):\n",
    "        if i % 2 == 0:\n",
    "            yield i\n",
    "\n",
    "gen4 = even_gen(10)\n",
    "print(next(gen4))       #0\n",
    "print(next(gen4))       #2\n",
    "print(next(gen4))       #4"
   ]
  },
  {
   "cell_type": "code",
   "execution_count": null,
   "metadata": {},
   "outputs": [
    {
     "name": "stdout",
     "output_type": "stream",
     "text": [
      "Before function call\n",
      "Hello, World!\n",
      "After function call\n"
     ]
    }
   ],
   "source": [
    "#decorators\n",
    "#decorator is a function that takes another function as an argument and extends its behavior without modifying it\n",
    "def decorator(func):\n",
    "    def wrapper():\n",
    "        print(\"Before function call\")\n",
    "        func()\n",
    "        print(\"After function call\")\n",
    "    return wrapper\n",
    "\n",
    "def greet():\n",
    "    print(\"Hello, World!\")\n",
    "greet = decorator(greet)\n",
    "greet()       #Before function call\n",
    "                #Hello, World!\n",
    "                #After function call"
   ]
  },
  {
   "cell_type": "code",
   "execution_count": null,
   "metadata": {},
   "outputs": [
    {
     "name": "stdout",
     "output_type": "stream",
     "text": [
      "Before function call\n",
      "Hello, World!\n",
      "After function call\n"
     ]
    }
   ],
   "source": [
    "def deco(func):\n",
    "    def wrapper():\n",
    "        print(\"Before function call\")\n",
    "        func()\n",
    "        print(\"After function call\")\n",
    "    return wrapper\n",
    "\n",
    "@deco\n",
    "def greet():\n",
    "    print(\"Hello, World!\")\n",
    "greet()       #Before function call\n",
    "                #Hello, World!\n",
    "                #After function call"
   ]
  },
  {
   "cell_type": "code",
   "execution_count": null,
   "metadata": {},
   "outputs": [
    {
     "data": {
      "text/plain": [
       "'HELLO, WORLD!'"
      ]
     },
     "execution_count": 90,
     "metadata": {},
     "output_type": "execute_result"
    }
   ],
   "source": [
    "def uppercase_decorator(func):\n",
    "    def wrapper():\n",
    "        result = func()\n",
    "        return result.upper()\n",
    "    return wrapper\n",
    "\n",
    "@uppercase_decorator\n",
    "def greet():\n",
    "    return \"Hello, World!\"\n",
    "greet()      #HELLO, WORLD!"
   ]
  },
  {
   "cell_type": "markdown",
   "metadata": {},
   "source": [
    "Exercises"
   ]
  },
  {
   "cell_type": "code",
   "execution_count": null,
   "metadata": {},
   "outputs": [
    {
     "name": "stdout",
     "output_type": "stream",
     "text": [
      "Roots are -4.686291501015239 and -27.31370849898476 and are real\n"
     ]
    }
   ],
   "source": [
    "#find roots of the quadratic equation\n",
    "#from math import sqrt\n",
    "def roots(a,b,c):\n",
    "    d = lambda a,b,c : b*b - 4*a*c \n",
    "    if d(a,b,c) <0:\n",
    "        print(\"No real roots\")\n",
    "\n",
    "    elif d(a,b,c) == 0:\n",
    "        r = -b/(2*a)\n",
    "        print(f\"Root is {r} and is real\")\n",
    "        return r\n",
    "    else:\n",
    "        r1 = (-b + d(a,b,c) ** 0.5)/2*a     #r1 = (-b + sqrt(d(a,b,c)))/2*a\n",
    "        r2 = (-b - d(a,b,c) ** 0.5)/2*a\n",
    "        print(f\"Roots are {r1} and {r2} and are real\")\n",
    "        return r1,r2\n",
    "    return None\n",
    "\n",
    "a = int(input(\"Enter a:\"))\n",
    "b = int(input(\"Enter b:\"))\n",
    "c = int(input(\"Enter c:\"))\n",
    "p = roots(a,b,c)\n"
   ]
  },
  {
   "cell_type": "code",
   "execution_count": null,
   "metadata": {},
   "outputs": [
    {
     "name": "stdout",
     "output_type": "stream",
     "text": [
      "Sentence:i am starving\n",
      "Total characters with space:13\n",
      "Total characters without space:11\n",
      "Total numbers of spaces:2\n",
      "Total number of words:3\n",
      "Total number of vowels:4\n",
      "Total number of consonents:7\n"
     ]
    }
   ],
   "source": [
    "#Get a paragraph from the user,To find(Total character, Without space total characters,total words,total spaces)\n",
    "''' use input to get sentence from user\n",
    "    find total length using len function with space\n",
    "    without space\n",
    "    find total number of words using a python procedure\n",
    "    find total number of spaces using a loop and range function\n",
    "    display result to user\n",
    "    '''\n",
    "sentence = input(\"enter a sentence: \")\n",
    "Total_char = len(sentence)\n",
    "\n",
    "spaces = 0\n",
    "for i in range(0,Total_char):\n",
    "    if sentence[i] == \" \":\n",
    "        spaces += 1\n",
    "Total_char_without_space = Total_char - spaces\n",
    "Total_words = spaces + 1\n",
    "\n",
    "print(f\"Sentence:{sentence}\")\n",
    "print(f\"Total characters with space:{Total_char}\")\n",
    "print(f\"Total characters without space:{Total_char_without_space}\")\n",
    "print(f\"Total numbers of spaces:{spaces}\")\n",
    "print(f\"Total number of words:{Total_words}\")\n",
    "\n",
    "#Total vowel characters in a sentence\n",
    "Total_vowels = 0\n",
    "for j in range(0,Total_char_without_space):\n",
    "    if sentence[j].lower() in \"aeiou\":\n",
    "        Total_vowels += 1\n",
    "\n",
    "print(f\"Total number of vowels:{Total_vowels}\")\n",
    "print(f\"Total number of consonents:{Total_char_without_space - Total_vowels}\")"
   ]
  },
  {
   "cell_type": "code",
   "execution_count": null,
   "metadata": {},
   "outputs": [
    {
     "name": "stdout",
     "output_type": "stream",
     "text": [
      "Element found at index 1\n"
     ]
    }
   ],
   "source": [
    "#linear search\n",
    "def linear_search(arr, target):\n",
    "    for i in range(len(arr)):\n",
    "        if arr[i] == target:\n",
    "            return i\n",
    "    return -1\n",
    "\n",
    "n = int(input(\"Enter the number of elements in the array:\"))        #n = 4\n",
    "arr = []\n",
    "for i in range(n):\n",
    "    element = int(input(\"Enter element:\"))                          #element = 1,4,7,9\n",
    "    arr.append(element)\n",
    "\n",
    "target = int(input(\"Enter the target element to search:\"))          #target = 4\n",
    "result = linear_search(arr, target)\n",
    "if result != -1:\n",
    "    print(f\"Element found at index {result}\")           #found at index 1\n",
    "else:\n",
    "    print(\"Element not found in the array\")"
   ]
  }
 ],
 "metadata": {
  "kernelspec": {
   "display_name": "Python (pgmpy-env)",
   "language": "python",
   "name": "pgmpy-env"
  },
  "language_info": {
   "codemirror_mode": {
    "name": "ipython",
    "version": 3
   },
   "file_extension": ".py",
   "mimetype": "text/x-python",
   "name": "python",
   "nbconvert_exporter": "python",
   "pygments_lexer": "ipython3",
   "version": "3.13.3"
  }
 },
 "nbformat": 4,
 "nbformat_minor": 2
}
