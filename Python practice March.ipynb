{
 "cells": [
  {
   "cell_type": "markdown",
   "metadata": {},
   "source": [
    "11 March 2025"
   ]
  },
  {
   "cell_type": "markdown",
   "metadata": {},
   "source": [
    "Basic inputs,print statements,variables and keywords"
   ]
  },
  {
   "cell_type": "markdown",
   "metadata": {},
   "source": [
    "Exercise 1"
   ]
  },
  {
   "cell_type": "code",
   "execution_count": 54,
   "metadata": {},
   "outputs": [
    {
     "name": "stdout",
     "output_type": "stream",
     "text": [
      "0\n"
     ]
    }
   ],
   "source": [
    "x=int(input(\"Enter first number:\"))\n",
    "y=int(input(\"Enter second number:\"))\n",
    "print(x%y)"
   ]
  },
  {
   "cell_type": "code",
   "execution_count": 55,
   "metadata": {},
   "outputs": [
    {
     "name": "stdout",
     "output_type": "stream",
     "text": [
      "abrakadabra ABRAKADABRA 11\n"
     ]
    }
   ],
   "source": [
    "Name=\"abrakadabra\";name=\"ABRAKADABRA\";words=11;print(Name,name,words)          #multiline & variables and constants"
   ]
  },
  {
   "cell_type": "markdown",
   "metadata": {},
   "source": [
    "Exercise 2"
   ]
  },
  {
   "cell_type": "code",
   "execution_count": 56,
   "metadata": {},
   "outputs": [
    {
     "name": "stdout",
     "output_type": "stream",
     "text": [
      "122.0\n"
     ]
    }
   ],
   "source": [
    "C=int(input(\"Enter the temperature in celsius:\"))\n",
    "F=C*(9/5)+32\n",
    "print(F)        #C=15"
   ]
  },
  {
   "cell_type": "code",
   "execution_count": 57,
   "metadata": {},
   "outputs": [
    {
     "name": "stdout",
     "output_type": "stream",
     "text": [
      "50.0\n"
     ]
    }
   ],
   "source": [
    "F=float(input(\"Enter the temperature in fahrenheit:\"))\n",
    "C=(F-32)*(5/9)\n",
    "print(C)        #F=59"
   ]
  },
  {
   "cell_type": "code",
   "execution_count": 58,
   "metadata": {},
   "outputs": [
    {
     "name": "stdout",
     "output_type": "stream",
     "text": [
      "Hello all,I'm an imposter\n",
      "My friend's name is Jason and his age is 17\n"
     ]
    }
   ],
   "source": [
    "print(\"Hello all,I'm an imposter\")\n",
    "names = \"Jason\"\n",
    "Age = 17\n",
    "print(f\"My friend's name is {names} and his age is {Age}\")"
   ]
  },
  {
   "cell_type": "code",
   "execution_count": 75,
   "metadata": {},
   "outputs": [
    {
     "name": "stdout",
     "output_type": "stream",
     "text": [
      "Hi david\n",
      "My name is Max\n",
      "Mr.Max is a good friend of Mr.david,Both are of age 17\n"
     ]
    }
   ],
   "source": [
    "name_a=\"david\"\n",
    "print(\"Hi \"+name_a)\n",
    "\n",
    "name_b=\"Max\"\n",
    "print(\"My name is \"+name_b)\n",
    "\n",
    "print(f\"Mr.{name_b} is a good friend of Mr.{name_a},Both are of age {Age}\")"
   ]
  },
  {
   "cell_type": "markdown",
   "metadata": {},
   "source": [
    "Exercise 3"
   ]
  },
  {
   "cell_type": "code",
   "execution_count": null,
   "metadata": {},
   "outputs": [
    {
     "name": "stdout",
     "output_type": "stream",
     "text": [
      "\n",
      "---------------User profile----------------\n",
      "Name: Max\n",
      "Age: 15\n",
      "City: Lahore\n",
      "Age: 15\n"
     ]
    }
   ],
   "source": [
    "name_c=input(\"Enter your name:\")\n",
    "age_c=int(input(\"Enter your age:\"))\n",
    "city_c=input(\"Enter your city:\")\n",
    "\n",
    "print(\"\\n---------------User profile----------------\")\n",
    "print(f\"Name: {name_c}\")\n",
    "print(f\"Age: {age_c}\")\n",
    "print(f\"City: {city_c}\")\n",
    "\n",
    "#print(\"Age:\",str(age_c))"
   ]
  },
  {
   "cell_type": "markdown",
   "metadata": {},
   "source": [
    "15 March 2025"
   ]
  },
  {
   "cell_type": "markdown",
   "metadata": {},
   "source": [
    "Sequential data type"
   ]
  },
  {
   "cell_type": "code",
   "execution_count": 61,
   "metadata": {},
   "outputs": [
    {
     "name": "stdout",
     "output_type": "stream",
     "text": [
      "python\n",
      "[1, 2, 3, 4, 5]\n",
      "(1, 2, 3, 4, 5)\n",
      "[2, 3]\n"
     ]
    }
   ],
   "source": [
    "string_a = \"python\"\n",
    "list = [1,2,3,4,5]    #can have changes in values,mutable\n",
    "tuple = (1,2,3,4,5)   #can't have changes in values,immutable\n",
    "\n",
    "print(str);print(list);print(tuple)\n",
    "print(list[1:3])\n"
   ]
  },
  {
   "cell_type": "markdown",
   "metadata": {},
   "source": [
    "Non sequential data types"
   ]
  },
  {
   "cell_type": "code",
   "execution_count": 62,
   "metadata": {},
   "outputs": [
    {
     "name": "stdout",
     "output_type": "stream",
     "text": [
      "{1, 2, 3, 4}\n",
      "{'name': 'akshay', 'age': 25}\n",
      "True\n",
      "25\n"
     ]
    }
   ],
   "source": [
    "set = {1,2,3,4}\n",
    "dict={\n",
    "    \"name\":\"akshay\",\n",
    "    \"age\":25\n",
    "}\n",
    "is_valid=True\n",
    "print(set);print(dict);print(is_valid)\n",
    "print(dict[\"age\"])"
   ]
  },
  {
   "cell_type": "markdown",
   "metadata": {},
   "source": [
    "Mutable data types:\n",
    "\n",
    "These are data types which allow modifications, some of them are: list,dictionary,set"
   ]
  },
  {
   "cell_type": "code",
   "execution_count": 63,
   "metadata": {},
   "outputs": [
    {
     "name": "stdout",
     "output_type": "stream",
     "text": [
      "['Apple', 'Banana', 'Grapes', 'Mango']\n",
      "['Banana', 'Grapes', 'Mango']\n"
     ]
    }
   ],
   "source": [
    "fruits = [\"Apple\",\"Banana\",\"Grapes\"]        \n",
    "fruits.append(\"Mango\")\n",
    "print(fruits)\n",
    "fruits.remove(\"Apple\")\n",
    "print(fruits)"
   ]
  },
  {
   "cell_type": "code",
   "execution_count": 64,
   "metadata": {},
   "outputs": [
    {
     "name": "stdout",
     "output_type": "stream",
     "text": [
      "{'name': 'akshay', 'age': 25, 'city': 'karachi'}\n"
     ]
    }
   ],
   "source": [
    "student = {\n",
    "    \"name\":\"akshay\",\n",
    "    \"age\":25\n",
    "}\n",
    "student[\"city\"] = \"karachi\"\n",
    "print(student)"
   ]
  },
  {
   "cell_type": "markdown",
   "metadata": {},
   "source": [
    "Non Mutable data types:\n",
    "\n",
    "Integer,float,string,tuple,boolean are immutable data types,they don't allow changes to the values"
   ]
  },
  {
   "cell_type": "code",
   "execution_count": 65,
   "metadata": {},
   "outputs": [
    {
     "name": "stdout",
     "output_type": "stream",
     "text": [
      "(1, 2)\n"
     ]
    }
   ],
   "source": [
    "coordinates = (1,2)\n",
    "print(coordinates)\n",
    "X=0\n",
    "Y=1.6\n",
    "Z = 3+5j"
   ]
  },
  {
   "cell_type": "code",
   "execution_count": 66,
   "metadata": {},
   "outputs": [
    {
     "ename": "TypeError",
     "evalue": "'str' object does not support item assignment",
     "output_type": "error",
     "traceback": [
      "\u001b[1;31m---------------------------------------------------------------------------\u001b[0m",
      "\u001b[1;31mTypeError\u001b[0m                                 Traceback (most recent call last)",
      "Cell \u001b[1;32mIn[66], line 2\u001b[0m\n\u001b[0;32m      1\u001b[0m name \u001b[38;5;241m=\u001b[39m \u001b[38;5;124m\"\u001b[39m\u001b[38;5;124mali\u001b[39m\u001b[38;5;124m\"\u001b[39m\n\u001b[1;32m----> 2\u001b[0m name[\u001b[38;5;241m0\u001b[39m]\u001b[38;5;241m=\u001b[39m\u001b[38;5;124m\"\u001b[39m\u001b[38;5;124mb\u001b[39m\u001b[38;5;124m\"\u001b[39m\n\u001b[0;32m      3\u001b[0m \u001b[38;5;28mprint\u001b[39m(name)\n",
      "\u001b[1;31mTypeError\u001b[0m: 'str' object does not support item assignment"
     ]
    }
   ],
   "source": [
    "name = \"ali\"\n",
    "name[0]=\"b\"\n",
    "print(name)     #should give an error"
   ]
  },
  {
   "cell_type": "code",
   "execution_count": null,
   "metadata": {},
   "outputs": [
    {
     "name": "stdout",
     "output_type": "stream",
     "text": [
      "<class 'dict'>\n",
      "<class 'tuple'>\n",
      "<class 'str'>\n",
      "<class 'int'>\n",
      "<class 'float'>\n",
      "<class 'complex'>\n"
     ]
    }
   ],
   "source": [
    "print(type(student));print(type(coordinates));print(type(name));print(type(X));print(type(Y));print(type(Z))"
   ]
  },
  {
   "cell_type": "code",
   "execution_count": null,
   "metadata": {},
   "outputs": [
    {
     "name": "stdout",
     "output_type": "stream",
     "text": [
      "<class 'float'>\n",
      "<class 'str'>\n",
      "<class 'list'>\n",
      "<class 'tuple'>\n",
      "<class 'set'>\n",
      "<class 'dict'>\n",
      "<class 'list'>\n"
     ]
    }
   ],
   "source": [
    "print(type(C));print(type(string_a));print(type(list));print(type(tuple));print(type(set));print(type(dict));print(type(fruits))"
   ]
  },
  {
   "cell_type": "code",
   "execution_count": null,
   "metadata": {},
   "outputs": [
    {
     "name": "stdout",
     "output_type": "stream",
     "text": [
      "<class 'str'>\n"
     ]
    }
   ],
   "source": [
    "text=\"string\"\n",
    "print(type(text))"
   ]
  },
  {
   "cell_type": "markdown",
   "metadata": {},
   "source": [
    "Strings"
   ]
  },
  {
   "cell_type": "code",
   "execution_count": null,
   "metadata": {},
   "outputs": [
    {
     "name": "stdout",
     "output_type": "stream",
     "text": [
      "string concatenation\n",
      "i am sorry\n",
      "i am sorry\n",
      "i am sorry\n",
      "i am sorry\n",
      "i am sorry\n",
      "\n",
      "cat\n"
     ]
    }
   ],
   "source": [
    "#concatenation\n",
    "cat=\"concatenation\"\n",
    "print(text+\" \"+cat)\n",
    "\n",
    "#Repetition: i am sorry 5 times\n",
    "sorry=\"i am sorry\"\n",
    "print((sorry+\"\\n\")*5)\n",
    "\n",
    "#Indexing: \n",
    "print(cat[3:6])"
   ]
  },
  {
   "cell_type": "code",
   "execution_count": null,
   "metadata": {},
   "outputs": [
    {
     "name": "stdout",
     "output_type": "stream",
     "text": [
      "fuck\n"
     ]
    }
   ],
   "source": [
    "print(\"firetruck\"[0]+\"firetruck\"[-3:])"
   ]
  },
  {
   "cell_type": "markdown",
   "metadata": {},
   "source": [
    "Lists"
   ]
  },
  {
   "cell_type": "code",
   "execution_count": null,
   "metadata": {},
   "outputs": [
    {
     "name": "stdout",
     "output_type": "stream",
     "text": [
      "['Apple', 'Banana', 'cherry', 'orange', 'Mango']\n"
     ]
    }
   ],
   "source": [
    "fruits[2]=\"cherry\"\n",
    "\n",
    "fruits.append(\"orange\");fruits.append(\"Mango\")\n",
    "print(fruits)"
   ]
  },
  {
   "cell_type": "code",
   "execution_count": null,
   "metadata": {},
   "outputs": [
    {
     "name": "stdout",
     "output_type": "stream",
     "text": [
      "Apple\n",
      "Banana\n",
      "cherry\n",
      "Mango\n",
      "orange\n",
      "['Apple', 'Banana']\n",
      "['Apple', 'Banana', 'cherry']\n",
      "['Banana', 'cherry', 'orange', 'Mango']\n",
      "['Apple']\n"
     ]
    }
   ],
   "source": [
    "print(fruits[0])\n",
    "print(fruits[1])\n",
    "print(fruits[2])\n",
    "print(fruits[-1])\n",
    "print(fruits[-2])\n",
    "print(fruits[0:2])\n",
    "print(fruits[0:3])\n",
    "print(fruits[1:])\n",
    "print(fruits[:1])"
   ]
  },
  {
   "cell_type": "markdown",
   "metadata": {},
   "source": [
    "16 March 2025"
   ]
  },
  {
   "cell_type": "markdown",
   "metadata": {},
   "source": [
    "Tuples"
   ]
  },
  {
   "cell_type": "code",
   "execution_count": null,
   "metadata": {},
   "outputs": [
    {
     "name": "stdout",
     "output_type": "stream",
     "text": [
      "(1, 2, 3)\n",
      "<class 'tuple'>\n",
      "1\n",
      "3\n",
      "3\n",
      "[1, 2, 3]\n"
     ]
    }
   ],
   "source": [
    "coordinates = (1,2,3)\n",
    "print(coordinates)\n",
    "print(type(coordinates))\n",
    "print(coordinates[0])\n",
    "print(coordinates[2])\n",
    "print(len(coordinates))\n",
    "shift=([1,2,3])\n",
    "print(shift)"
   ]
  },
  {
   "cell_type": "markdown",
   "metadata": {},
   "source": [
    "Dictionary"
   ]
  },
  {
   "cell_type": "code",
   "execution_count": null,
   "metadata": {},
   "outputs": [
    {
     "name": "stdout",
     "output_type": "stream",
     "text": [
      "{'name': 'akshay', 'age': 25, 'city': 'karachi'}\n",
      "<class 'dict'>\n",
      "akshay\n",
      "25\n",
      "karachi\n",
      "{'name': 'akshay', 'age': 25, 'city': 'lahore'}\n",
      "{'name': 'akshay', 'age': 25, 'city': 'lahore', 'country': 'pakistan'}\n"
     ]
    }
   ],
   "source": [
    "employee = {\n",
    "    \"name\":\"akshay\",\n",
    "    \"age\":25,\n",
    "    \"city\":\"karachi\"\n",
    "}\n",
    "print(employee)\n",
    "print(type(employee))\n",
    "print(employee[\"name\"])\n",
    "print(employee[\"age\"])\n",
    "print(employee[\"city\"])\n",
    "\n",
    "employee[\"city\"]=\"lahore\"\n",
    "print(employee)\n",
    "employee[\"country\"]=\"pakistan\"\n",
    "print(employee)"
   ]
  },
  {
   "cell_type": "markdown",
   "metadata": {},
   "source": [
    "Sets"
   ]
  },
  {
   "cell_type": "code",
   "execution_count": null,
   "metadata": {},
   "outputs": [
    {
     "name": "stdout",
     "output_type": "stream",
     "text": [
      "Before changes: {1, 2, 3, 4, 5}\n",
      "After adding and removing: {1, 2, 3, 5, 6}\n",
      "Union: {1, 2, 3, 5, 6, 7, 8, 9}\n",
      "Intersection: {9, 7}\n"
     ]
    }
   ],
   "source": [
    "numbers={1,2,3,4,4,5}\n",
    "print(\"Before changes:\",numbers)\n",
    "numbers.add(6)\n",
    "numbers.remove(4)\n",
    "print(\"After adding and removing:\",numbers)\n",
    "A={1,2,3,7,9}\n",
    "B={5,6,7,8,9}\n",
    "print(\"Union:\",A|B);     \n",
    "#print(A.union(B))\n",
    "print(\"Intersection:\", A&B)\n",
    "#print(A.intersection(B))"
   ]
  },
  {
   "cell_type": "markdown",
   "metadata": {},
   "source": [
    "Boolean"
   ]
  },
  {
   "cell_type": "code",
   "execution_count": null,
   "metadata": {},
   "outputs": [
    {
     "name": "stdout",
     "output_type": "stream",
     "text": [
      "True\n",
      "<class 'bool'>\n",
      "True\n",
      "False\n",
      "False\n",
      "True\n"
     ]
    }
   ],
   "source": [
    "is_student = True\n",
    "print(is_student)\n",
    "print(type(is_student))\n",
    "\n",
    "print(7>3)\n",
    "print(3<1)\n",
    "\n",
    "print(True and False)\n",
    "print(True or False)\n",
    "\n",
    "\n"
   ]
  },
  {
   "cell_type": "markdown",
   "metadata": {},
   "source": [
    "17 March 2025"
   ]
  },
  {
   "cell_type": "markdown",
   "metadata": {},
   "source": [
    "Exercise 4"
   ]
  },
  {
   "cell_type": "code",
   "execution_count": 6,
   "metadata": {},
   "outputs": [
    {
     "name": "stdout",
     "output_type": "stream",
     "text": [
      "Old list: [1, 2, 3, 4, 5]\n",
      "Tuple: (1, 2, 3, 4, 5)\n",
      "New List: [1, 2, 3, 4, 5]\n",
      "Set: {1, 2, 3, 4, 5}\n",
      "Final List: [1, 2, 3, 4, 5]\n"
     ]
    }
   ],
   "source": [
    "my_list = [1,2,3,4,5]\n",
    "print(\"Old list:\",my_list)\n",
    "my_tuple = tuple(my_list)\n",
    "print(\"Tuple:\",my_tuple)\n",
    "new_list=list(my_tuple)\n",
    "print(\"New List:\",new_list)\n",
    "new_set=set(new_list)\n",
    "print(\"Set:\",new_set)\n",
    "final_list=list(new_set)\n",
    "print(\"Final List:\",new_list)"
   ]
  },
  {
   "cell_type": "markdown",
   "metadata": {},
   "source": [
    "Operators"
   ]
  },
  {
   "cell_type": "markdown",
   "metadata": {},
   "source": [
    "Arithmetic:\n",
    "\n",
    "+,-,*,/,%(common)\n",
    "//(floor division)\n",
    "**(exponential)"
   ]
  },
  {
   "cell_type": "code",
   "execution_count": null,
   "metadata": {},
   "outputs": [
    {
     "name": "stdout",
     "output_type": "stream",
     "text": [
      "18 12 45 5.0 0 5 3375\n"
     ]
    }
   ],
   "source": [
    "a = 10\n",
    "b = 5\n",
    "ad = a+b\n",
    "su = a-b\n",
    "mu = a*b\n",
    "di = a/b\n",
    "rem = a%b\n",
    "fd = a//b\n",
    "ex = a**b\n",
    "print(ad,su,mu,di,rem,fd,ex)"
   ]
  },
  {
   "cell_type": "markdown",
   "metadata": {},
   "source": [
    "Relational:>,<,==,!=,<=,>="
   ]
  },
  {
   "cell_type": "code",
   "execution_count": 10,
   "metadata": {},
   "outputs": [
    {
     "name": "stdout",
     "output_type": "stream",
     "text": [
      "True\n",
      "False\n",
      "True\n",
      "False\n",
      "False\n",
      "True\n"
     ]
    }
   ],
   "source": [
    "gt = a>b\n",
    "lt = a<b\n",
    "gte = a>=b\n",
    "lte = a<=b\n",
    "eq = a==b\n",
    "nq = a!=b\n",
    "print(gt)\n",
    "print(lt)\n",
    "print(gte)\n",
    "print(lte)\n",
    "print(eq)\n",
    "print(nq)"
   ]
  },
  {
   "cell_type": "markdown",
   "metadata": {},
   "source": [
    "Logical: &,|,!"
   ]
  },
  {
   "cell_type": "code",
   "execution_count": 17,
   "metadata": {},
   "outputs": [
    {
     "name": "stdout",
     "output_type": "stream",
     "text": [
      "False\n",
      "3\n",
      "15\n",
      "True\n",
      "False\n",
      "False\n",
      "False\n",
      "True\n"
     ]
    }
   ],
   "source": [
    "c = 20\n",
    "annd = a and b\n",
    "orr = a or b\n",
    "not_ = not c\n",
    "print(not_)\n",
    "print(annd)\n",
    "print(orr)\n",
    "print( a>b and b<c)\n",
    "print( a<b and b>c)\n",
    "print( not(a>b))\n",
    "\n",
    "print(True and False)\n",
    "print(True or False)"
   ]
  },
  {
   "cell_type": "markdown",
   "metadata": {},
   "source": [
    "Assignment operators:\n",
    "\n",
    "=,+=,-=,*=,/=,//=,%=,**="
   ]
  },
  {
   "cell_type": "code",
   "execution_count": 21,
   "metadata": {},
   "outputs": [
    {
     "name": "stdout",
     "output_type": "stream",
     "text": [
      "10\n",
      "25\n"
     ]
    }
   ],
   "source": [
    "x=10\n",
    "print(x)\n",
    "x+=15\n",
    "print(x)"
   ]
  },
  {
   "cell_type": "code",
   "execution_count": 22,
   "metadata": {},
   "outputs": [
    {
     "name": "stdout",
     "output_type": "stream",
     "text": [
      "625\n"
     ]
    }
   ],
   "source": [
    "x**=2\n",
    "print(x)"
   ]
  },
  {
   "cell_type": "markdown",
   "metadata": {},
   "source": [
    "Membership operator:\n",
    "\n",
    "in, not in"
   ]
  },
  {
   "cell_type": "code",
   "execution_count": 25,
   "metadata": {},
   "outputs": [
    {
     "name": "stdout",
     "output_type": "stream",
     "text": [
      "True\n",
      "True\n",
      "False\n",
      "True False\n"
     ]
    }
   ],
   "source": [
    "treat=\"Hi, i am a guy from 6th data science\"\n",
    "print(\"data\" in treat)\n",
    "print(\"learning \"not in treat)\n",
    "print(\"i\"not in treat)\n",
    "print(\"learning \"not in treat,\"i\"not in treat)"
   ]
  },
  {
   "cell_type": "markdown",
   "metadata": {},
   "source": [
    "Identity operator:\n",
    "\n",
    "is, is not"
   ]
  },
  {
   "cell_type": "code",
   "execution_count": 28,
   "metadata": {},
   "outputs": [
    {
     "name": "stdout",
     "output_type": "stream",
     "text": [
      "True\n",
      "False\n",
      "True\n"
     ]
    }
   ],
   "source": [
    "a = [1,2,3]\n",
    "b = a       #same address\n",
    "c = [1,2,3]     #different address/memory location\n",
    "print(a is b)\n",
    "print(a is c)\n",
    "\n",
    "print(b is not c)"
   ]
  },
  {
   "cell_type": "markdown",
   "metadata": {},
   "source": [
    "Exercise 5"
   ]
  },
  {
   "cell_type": "code",
   "execution_count": 30,
   "metadata": {},
   "outputs": [
    {
     "name": "stdout",
     "output_type": "stream",
     "text": [
      "True\n",
      "True\n"
     ]
    }
   ],
   "source": [
    "text_= \"i love python programming\"\n",
    "print(\"python\" in text_)\n",
    "text2= \"i bought an apple and orange\"\n",
    "print(\"apple\" in text2)"
   ]
  },
  {
   "cell_type": "markdown",
   "metadata": {},
   "source": [
    "27 March 2025"
   ]
  },
  {
   "cell_type": "markdown",
   "metadata": {},
   "source": [
    "Conditional statement"
   ]
  },
  {
   "cell_type": "markdown",
   "metadata": {},
   "source": [
    "if statements"
   ]
  },
  {
   "cell_type": "code",
   "execution_count": null,
   "metadata": {},
   "outputs": [],
   "source": [
    "age = int(input(\"Enter age:\"))\n",
    "\n",
    "if (age>=18):\n",
    "    print(\"You are eligible to vote.\")      #5"
   ]
  },
  {
   "cell_type": "markdown",
   "metadata": {},
   "source": [
    "if else"
   ]
  },
  {
   "cell_type": "code",
   "execution_count": 32,
   "metadata": {},
   "outputs": [
    {
     "name": "stdout",
     "output_type": "stream",
     "text": [
      "The number 7 is odd\n"
     ]
    }
   ],
   "source": [
    "n = int( input(\"Enter number to check even or odd\"))\n",
    "if n%2==0:\n",
    "    print(f\"The number {n} is even\")\n",
    "else:\n",
    "    print(f\"The number {n} is odd\")"
   ]
  },
  {
   "cell_type": "markdown",
   "metadata": {},
   "source": [
    "if elif else"
   ]
  },
  {
   "cell_type": "code",
   "execution_count": null,
   "metadata": {},
   "outputs": [
    {
     "name": "stdout",
     "output_type": "stream",
     "text": [
      "Grade B\n"
     ]
    }
   ],
   "source": [
    "marks = int(input(\"Enter marks:\"))\n",
    "if marks>85:\n",
    "    print(\"Grade O\")\n",
    "elif marks>60:\n",
    "    print(\"Grade A\")\n",
    "elif marks>50:\n",
    "    print(\"Grade B\")\n",
    "elif marks>40:\n",
    "    print(\"Grade C\")\n",
    "else:\n",
    "    print(\"Fail\")       #55"
   ]
  },
  {
   "cell_type": "markdown",
   "metadata": {},
   "source": [
    "Nested if"
   ]
  },
  {
   "cell_type": "code",
   "execution_count": null,
   "metadata": {},
   "outputs": [
    {
     "name": "stdout",
     "output_type": "stream",
     "text": [
      "the number is negative\n"
     ]
    }
   ],
   "source": [
    "num = int(input(\"Enter number:\"))\n",
    " \n",
    "if num>0:\n",
    "    print(\"The number is positive\")\n",
    "    if num%2==0:\n",
    "        print(\"The number is even\")\n",
    "    else:\n",
    "        print(\"The number is odd\")\n",
    "    \n",
    "else:\n",
    "    print(\"the number is negative\")     #-2"
   ]
  },
  {
   "cell_type": "markdown",
   "metadata": {},
   "source": [
    "Exercise 6"
   ]
  },
  {
   "cell_type": "code",
   "execution_count": 35,
   "metadata": {},
   "outputs": [
    {
     "name": "stdout",
     "output_type": "stream",
     "text": [
      "The number is positive\n"
     ]
    }
   ],
   "source": [
    "num = int(input(\"Enter number:\"))\n",
    " \n",
    "if num>0:\n",
    "    print(\"The number is positive\")\n",
    "elif num == 0:\n",
    "    print(\"The number is zero\")\n",
    "else:\n",
    "    print(\"the number is negative\")     #-2"
   ]
  },
  {
   "cell_type": "markdown",
   "metadata": {},
   "source": [
    "Looping statements"
   ]
  },
  {
   "cell_type": "markdown",
   "metadata": {},
   "source": [
    "for loop"
   ]
  },
  {
   "cell_type": "code",
   "execution_count": 39,
   "metadata": {},
   "outputs": [
    {
     "name": "stdout",
     "output_type": "stream",
     "text": [
      "0\n",
      "1\n",
      "2\n",
      "3\n",
      "4\n"
     ]
    }
   ],
   "source": [
    "for i in range(5):\n",
    "    print (i)"
   ]
  },
  {
   "cell_type": "code",
   "execution_count": 43,
   "metadata": {},
   "outputs": [
    {
     "name": "stdout",
     "output_type": "stream",
     "text": [
      "apple from ['apple', 'banana', 'cherry']\n",
      "banana from ['apple', 'banana', 'cherry']\n",
      "cherry from ['apple', 'banana', 'cherry']\n"
     ]
    }
   ],
   "source": [
    "fruit = [\"apple\",\"banana\",\"cherry\"]\n",
    "for x in fruit:\n",
    "    print(f\"{x} from {fruit}\")"
   ]
  },
  {
   "cell_type": "markdown",
   "metadata": {},
   "source": [
    "29 March 2025"
   ]
  },
  {
   "cell_type": "code",
   "execution_count": 179,
   "metadata": {},
   "outputs": [
    {
     "name": "stdout",
     "output_type": "stream",
     "text": [
      "Surabhi\n",
      "Akshay\n",
      "Dhiraj\n",
      "Afra\n",
      "Shiva\n",
      "Rakesh\n"
     ]
    }
   ],
   "source": [
    "students = ['Surabhi','Akshay','Dhiraj','Afra','Shiva']\n",
    "students.append('Rakesh')\n",
    "for student in students:\n",
    "    print(student)\n"
   ]
  },
  {
   "cell_type": "markdown",
   "metadata": {},
   "source": [
    "While loop"
   ]
  },
  {
   "cell_type": "code",
   "execution_count": 52,
   "metadata": {},
   "outputs": [
    {
     "name": "stdout",
     "output_type": "stream",
     "text": [
      "0 is Even\n",
      "1 is Odd\n",
      "2 is Even\n",
      "3 is Odd\n",
      "4 is Even\n",
      "5 is Odd\n"
     ]
    }
   ],
   "source": [
    "count = 0\n",
    "while count <= 5:\n",
    "    if count%2==0:\n",
    "        print (f\"{count} is Even\")\n",
    "    else:\n",
    "        print (f\"{count} is Odd\")\n",
    "    count+=1\n"
   ]
  },
  {
   "cell_type": "code",
   "execution_count": 59,
   "metadata": {},
   "outputs": [],
   "source": [
    "while (False):          #True will give Infinite loop\n",
    "    print(\" Not an Infinite Loop\")"
   ]
  },
  {
   "cell_type": "code",
   "execution_count": 58,
   "metadata": {},
   "outputs": [
    {
     "name": "stdout",
     "output_type": "stream",
     "text": [
      "Mango\n",
      "Apple\n",
      "Grapes\n",
      "Banana\n"
     ]
    }
   ],
   "source": [
    "fts = [\"Mango\",\"Apple\",\"Grapes\",\"Banana\"]\n",
    "i = 0\n",
    "while i<len(fts):\n",
    "    print(fts[i])\n",
    "    i += 1"
   ]
  },
  {
   "cell_type": "markdown",
   "metadata": {},
   "source": [
    "Nested loop"
   ]
  },
  {
   "cell_type": "code",
   "execution_count": 61,
   "metadata": {},
   "outputs": [
    {
     "name": "stdout",
     "output_type": "stream",
     "text": [
      "i = 0 and j = 0\n",
      "i = 0 and j = 1\n",
      "i = 1 and j = 0\n",
      "i = 1 and j = 1\n",
      "i = 2 and j = 0\n",
      "i = 2 and j = 1\n"
     ]
    }
   ],
   "source": [
    "for i in range(3):\n",
    "    for j in range(2):\n",
    "        print(f\"i = {i} and j = {j}\")"
   ]
  },
  {
   "cell_type": "code",
   "execution_count": 63,
   "metadata": {},
   "outputs": [
    {
     "name": "stdout",
     "output_type": "stream",
     "text": [
      "* \n",
      "* * \n",
      "* * * \n",
      "* * * * \n",
      "* * * * * \n"
     ]
    }
   ],
   "source": [
    "rows = int(input(\"Enter number of rows:\"))\n",
    "for i in range(1,rows + 1):\n",
    "    for j in range (i):\n",
    "        print(\"*\",end = \" \")\n",
    "    print()"
   ]
  },
  {
   "cell_type": "code",
   "execution_count": null,
   "metadata": {},
   "outputs": [
    {
     "name": "stdout",
     "output_type": "stream",
     "text": [
      "     * \n",
      "     *      * \n",
      "     *      *      * \n",
      "     *      *      *      * \n",
      "     *      *      *      *      * \n"
     ]
    }
   ],
   "source": [
    "rows = int(input(\"Enter number of rows:\"))      #6\n",
    "for i in range(1,rows): #number of rows\n",
    "    for j in range (i):     #number of stars\n",
    "        print(\"     *\",end = \" \")\n",
    "    print()"
   ]
  },
  {
   "cell_type": "markdown",
   "metadata": {},
   "source": [
    "Exercise 7"
   ]
  },
  {
   "cell_type": "code",
   "execution_count": 85,
   "metadata": {},
   "outputs": [
    {
     "name": "stdout",
     "output_type": "stream",
     "text": [
      "1\n",
      "2\n",
      "3\n",
      "4\n",
      "5\n",
      "6\n",
      "7\n",
      "8\n",
      "9\n",
      "10\n",
      "\n",
      "\n",
      "1\n",
      "2\n",
      "3\n",
      "4\n",
      "5\n",
      "6\n",
      "7\n",
      "8\n",
      "9\n",
      "10\n"
     ]
    }
   ],
   "source": [
    "for i in range(1,11):\n",
    "    print(i)\n",
    "print(\"\\n\") \n",
    "\n",
    "i=1\n",
    "while i <= 10:\n",
    "    print(i)\n",
    "    i += 1"
   ]
  },
  {
   "cell_type": "code",
   "execution_count": 90,
   "metadata": {},
   "outputs": [
    {
     "name": "stdout",
     "output_type": "stream",
     "text": [
      "10\n",
      "9\n",
      "8\n",
      "7\n",
      "6\n",
      "5\n",
      "4\n",
      "3\n",
      "2\n",
      "1\n"
     ]
    }
   ],
   "source": [
    "i=10\n",
    "while i <= 10 and i>0:\n",
    "    print(i)\n",
    "    i -= 1\n"
   ]
  },
  {
   "cell_type": "code",
   "execution_count": 91,
   "metadata": {},
   "outputs": [
    {
     "name": "stdout",
     "output_type": "stream",
     "text": [
      "10\n",
      "9\n",
      "8\n",
      "7\n",
      "6\n",
      "5\n",
      "4\n",
      "3\n",
      "2\n",
      "1\n"
     ]
    }
   ],
   "source": [
    "for i in range(10,0,-1):\n",
    "    print(i)"
   ]
  },
  {
   "cell_type": "markdown",
   "metadata": {},
   "source": [
    "Simple Exercises"
   ]
  },
  {
   "cell_type": "markdown",
   "metadata": {},
   "source": [
    "Arithmetic calculator "
   ]
  },
  {
   "cell_type": "code",
   "execution_count": 98,
   "metadata": {},
   "outputs": [
    {
     "name": "stdout",
     "output_type": "stream",
     "text": [
      "Error: This function doesn't exist\n"
     ]
    }
   ],
   "source": [
    "n1 = float(input(\"Enter first number: \"))\n",
    "n2 = float(input(\"Enter second number: \"))\n",
    "operation = input(\"Enter the operation to be performed( + , - , * , / , % ,// , exp or ^): \")\n",
    "\n",
    "if operation == '+':\n",
    "    print(n1 + n2)\n",
    "elif operation == '-':\n",
    "    print(n1 - n2)\n",
    "elif operation == '*':\n",
    "    print(n1 * n2)\n",
    "elif operation == '/':\n",
    "    print(n1 / n2)\n",
    "elif operation == '%':\n",
    "    print(n1 % n2)\n",
    "elif operation == '//':\n",
    "    print(n1 // n2)\n",
    "elif operation == 'exp' or operation == '^':\n",
    "    print(n1 ** n2)\n",
    "else:\n",
    "    print(\"Error: This function doesn't exist\")     #~"
   ]
  },
  {
   "cell_type": "markdown",
   "metadata": {},
   "source": [
    "Even Odd Checker"
   ]
  },
  {
   "cell_type": "code",
   "execution_count": 99,
   "metadata": {},
   "outputs": [
    {
     "name": "stdout",
     "output_type": "stream",
     "text": [
      "4 is Even\n"
     ]
    }
   ],
   "source": [
    "n3 = int(input(\"Enter the number\"))\n",
    "if n3 % 2 == 0:\n",
    "    print(f\"{n3} is Even\")\n",
    "else:\n",
    "    print(f\"{n3} is Odd\")"
   ]
  },
  {
   "cell_type": "markdown",
   "metadata": {},
   "source": [
    "Number Comparison(Largest,Smallest,Average)"
   ]
  },
  {
   "cell_type": "code",
   "execution_count": 104,
   "metadata": {},
   "outputs": [
    {
     "name": "stdout",
     "output_type": "stream",
     "text": [
      "10  is Largest\n",
      "9 is Average \n",
      "6 is smallest\n"
     ]
    }
   ],
   "source": [
    "a = int(input(\"Enter first number\"))        #6\n",
    "b = int(input(\"Enter second number\"))       #9\n",
    "c = int(input(\"Enter third number\"))        #10\n",
    "\n",
    "if a > b and a > c:\n",
    "    print(a, \" is Largest\")\n",
    "    if b > c:\n",
    "        print(f\"{b} is Average \\n{c} is smallest\")\n",
    "    else:\n",
    "        print(f\"{c} is Average \\n{b} is smallest\")\n",
    "elif b > c and b > a:\n",
    "    print(b, \" is Largest\")\n",
    "    if c > a:\n",
    "        print(f\"{c} is Average \\n{a} is smallest\")\n",
    "    else:\n",
    "        print(f\"{a} is Average \\n{c} is smallest\")\n",
    "else:\n",
    "    print(c, \" is Largest\")\n",
    "    if a > b:\n",
    "        print(f\"{a} is Average \\n{b} is smallest\")\n",
    "    else:\n",
    "        print(f\"{b} is Average \\n{a} is smallest\")"
   ]
  },
  {
   "cell_type": "markdown",
   "metadata": {},
   "source": [
    "30 March 2025"
   ]
  },
  {
   "cell_type": "markdown",
   "metadata": {},
   "source": [
    "Table Generator"
   ]
  },
  {
   "cell_type": "code",
   "execution_count": 106,
   "metadata": {},
   "outputs": [
    {
     "name": "stdout",
     "output_type": "stream",
     "text": [
      "1 multiplies by 1 gives 1\n",
      "1 multiplies by 2 gives 2\n",
      "1 multiplies by 3 gives 3\n",
      "1 multiplies by 4 gives 4\n",
      "1 multiplies by 5 gives 5\n",
      "1 multiplies by 6 gives 6\n",
      "1 multiplies by 7 gives 7\n",
      "1 multiplies by 8 gives 8\n",
      "1 multiplies by 9 gives 9\n",
      "1 multiplies by 10 gives 10\n",
      "2 multiplies by 1 gives 2\n",
      "2 multiplies by 2 gives 4\n",
      "2 multiplies by 3 gives 6\n",
      "2 multiplies by 4 gives 8\n",
      "2 multiplies by 5 gives 10\n",
      "2 multiplies by 6 gives 12\n",
      "2 multiplies by 7 gives 14\n",
      "2 multiplies by 8 gives 16\n",
      "2 multiplies by 9 gives 18\n",
      "2 multiplies by 10 gives 20\n",
      "3 multiplies by 1 gives 3\n",
      "3 multiplies by 2 gives 6\n",
      "3 multiplies by 3 gives 9\n",
      "3 multiplies by 4 gives 12\n",
      "3 multiplies by 5 gives 15\n",
      "3 multiplies by 6 gives 18\n",
      "3 multiplies by 7 gives 21\n",
      "3 multiplies by 8 gives 24\n",
      "3 multiplies by 9 gives 27\n",
      "3 multiplies by 10 gives 30\n",
      "4 multiplies by 1 gives 4\n",
      "4 multiplies by 2 gives 8\n",
      "4 multiplies by 3 gives 12\n",
      "4 multiplies by 4 gives 16\n",
      "4 multiplies by 5 gives 20\n",
      "4 multiplies by 6 gives 24\n",
      "4 multiplies by 7 gives 28\n",
      "4 multiplies by 8 gives 32\n",
      "4 multiplies by 9 gives 36\n",
      "4 multiplies by 10 gives 40\n",
      "5 multiplies by 1 gives 5\n",
      "5 multiplies by 2 gives 10\n",
      "5 multiplies by 3 gives 15\n",
      "5 multiplies by 4 gives 20\n",
      "5 multiplies by 5 gives 25\n",
      "5 multiplies by 6 gives 30\n",
      "5 multiplies by 7 gives 35\n",
      "5 multiplies by 8 gives 40\n",
      "5 multiplies by 9 gives 45\n",
      "5 multiplies by 10 gives 50\n"
     ]
    }
   ],
   "source": [
    "n = int(input(\"Enter number for math tables till which the tables must be shown\"))\n",
    "for i in range(1,n+1):\n",
    "    for j in range(1,11):\n",
    "        Product=i*j\n",
    "        print(f\"{i} multiplies by {j} gives {Product}\")"
   ]
  },
  {
   "cell_type": "code",
   "execution_count": 107,
   "metadata": {},
   "outputs": [
    {
     "name": "stdout",
     "output_type": "stream",
     "text": [
      "5 x 1 = 5\n",
      "5 x 2 = 10\n",
      "5 x 3 = 15\n",
      "5 x 4 = 20\n",
      "5 x 5 = 25\n",
      "5 x 6 = 30\n",
      "5 x 7 = 35\n",
      "5 x 8 = 40\n",
      "5 x 9 = 45\n",
      "5 x 10 = 50\n"
     ]
    }
   ],
   "source": [
    "n4 = int(input(\"Enter the number:\"))\n",
    "\n",
    "for i in range(1,11):\n",
    "    print(f\"{num} x {i} = {num*i}\")"
   ]
  },
  {
   "cell_type": "markdown",
   "metadata": {},
   "source": [
    "Sum upto N number"
   ]
  },
  {
   "cell_type": "code",
   "execution_count": null,
   "metadata": {},
   "outputs": [
    {
     "name": "stdout",
     "output_type": "stream",
     "text": [
      "The sum of first 15 numbers is 120\n"
     ]
    }
   ],
   "source": [
    "n5 = int(input(\"Enter the numbers for sum:\"))\n",
    "\n",
    "sum = 0\n",
    "i = 1\n",
    "while i <= n5:\n",
    "    sum += i\n",
    "    i += 1\n",
    "print (f\"The sum of first {n5} numbers is {sum}\")"
   ]
  },
  {
   "cell_type": "markdown",
   "metadata": {},
   "source": [
    "Grade Calculator:                                               \n",
    "90+ -> A, \n",
    "80-89 -> B, \n",
    "70-79 -> C, \n",
    "60-69 -> D, \n",
    "Below 60 Fail."
   ]
  },
  {
   "cell_type": "code",
   "execution_count": 127,
   "metadata": {},
   "outputs": [
    {
     "name": "stdout",
     "output_type": "stream",
     "text": [
      "Grade D and percentage is 63.4%\n"
     ]
    }
   ],
   "source": [
    "m1 = float(input(\"Enter the marks of subject 1: \"))\n",
    "m2 = float(input(\"Enter the marks of subject 2: \"))\n",
    "m3 = float(input(\"Enter the marks of subject 3: \"))\n",
    "m4 = float(input(\"Enter the marks of subject 4: \"))\n",
    "m5 = float(input(\"Enter the marks of subject 5: \"))\n",
    "\n",
    "arks = m1 + m2 + m3 + m4 + m5\n",
    "Marks = arks/5\n",
    "p = Marks\n",
    "if Marks > 100 or Marks < 0:\n",
    "    print(\"Invalid Marks Allotment\")\n",
    "else:\n",
    "    if Marks >= 90:\n",
    "        print(f\"Grade A and percentage is {p}%\")\n",
    "    elif Marks >= 80 and Marks <= 89:\n",
    "        print(f\"Grade B and percentage is {p}%\")\n",
    "    elif Marks >= 70 and Marks <= 79:\n",
    "        print(f\"Grade C and percentage is {p}%\")\n",
    "    elif Marks >= 60 and Marks <= 69:\n",
    "        print(f\"Grade D and percentage is {p}%\")\n",
    "    else:\n",
    "        print(f\"Fail and percentage is {p}%\")"
   ]
  },
  {
   "cell_type": "markdown",
   "metadata": {},
   "source": [
    "Factorial of a Number"
   ]
  },
  {
   "cell_type": "code",
   "execution_count": 134,
   "metadata": {},
   "outputs": [
    {
     "name": "stdout",
     "output_type": "stream",
     "text": [
      "The Factorial of 6 is 720.\n"
     ]
    }
   ],
   "source": [
    "n6 = int(input(\"Enter a number for Factorial:\"))\n",
    "fact = 1\n",
    "\n",
    "for i in range(1,n6+1):\n",
    "    fact = fact * i\n",
    "print(f\"The Factorial of {n6} is {fact}.\")"
   ]
  },
  {
   "cell_type": "markdown",
   "metadata": {},
   "source": [
    "Prime number finder"
   ]
  },
  {
   "cell_type": "code",
   "execution_count": 137,
   "metadata": {},
   "outputs": [
    {
     "name": "stdout",
     "output_type": "stream",
     "text": [
      "Not Prime\n"
     ]
    }
   ],
   "source": [
    "m = int(input(\"Enter a number\"))\n",
    "\n",
    "is_prime = True\n",
    "\n",
    "if i < 2:\n",
    "    is_prime = False\n",
    "else:\n",
    "    for i in range(2,m):\n",
    "        if m % i == 0:\n",
    "            is_prime = False\n",
    "            break\n",
    "if is_prime:\n",
    "    print(\"Prime \")\n",
    "else:\n",
    "    print(\"Not Prime\")"
   ]
  },
  {
   "cell_type": "markdown",
   "metadata": {},
   "source": [
    "Reversal number generator"
   ]
  },
  {
   "cell_type": "code",
   "execution_count": 138,
   "metadata": {},
   "outputs": [
    {
     "name": "stdout",
     "output_type": "stream",
     "text": [
      "The reverse of the number 0 is 14521.\n"
     ]
    }
   ],
   "source": [
    "n7 = int(input(\"Enter the number to be reversed:\"))\n",
    "\n",
    "rev = 0\n",
    "\n",
    "while n7 > 0:\n",
    "    digits = n7 % 10\n",
    "    rev = rev * 10 + digits\n",
    "    n7 = n7 // 10\n",
    "\n",
    "print(f\"The reverse of the number {n7} is {rev}.\")"
   ]
  },
  {
   "cell_type": "markdown",
   "metadata": {},
   "source": [
    "Pyramid"
   ]
  },
  {
   "cell_type": "code",
   "execution_count": 153,
   "metadata": {},
   "outputs": [
    {
     "name": "stdout",
     "output_type": "stream",
     "text": [
      "      *\n",
      "     ***\n",
      "    *****\n",
      "   *******\n",
      "  *********\n",
      " ***********\n"
     ]
    }
   ],
   "source": [
    "rows2 = int(input(\"Enter the number of rows:\"))\n",
    "\n",
    "for i in range(1, rows2 + 1):\n",
    "    print(\" \"*(rows2 -i), end = \" \")\n",
    "    print(\"*\"*(2*i-1))"
   ]
  },
  {
   "cell_type": "markdown",
   "metadata": {},
   "source": [
    "Inverted pyramid"
   ]
  },
  {
   "cell_type": "code",
   "execution_count": 154,
   "metadata": {},
   "outputs": [
    {
     "name": "stdout",
     "output_type": "stream",
     "text": [
      " ***********\n",
      "  *********\n",
      "   *******\n",
      "    *****\n",
      "     ***\n",
      "      *\n"
     ]
    }
   ],
   "source": [
    "for i in range(rows2,0,-1):\n",
    "    print(\" \"*(rows -i), end = \" \")\n",
    "    print(\"*\"*(2*i-1))"
   ]
  },
  {
   "cell_type": "markdown",
   "metadata": {},
   "source": [
    "Right aligned"
   ]
  },
  {
   "cell_type": "code",
   "execution_count": null,
   "metadata": {},
   "outputs": [
    {
     "name": "stdout",
     "output_type": "stream",
     "text": [
      "      *\n",
      "     **\n",
      "    ***\n",
      "   ****\n",
      "  *****\n",
      " ******\n"
     ]
    }
   ],
   "source": [
    "for i in range(1, rows2 + 1):\n",
    "    print(\" \"*(rows -i), end = \" \")\n",
    "    print(\"*\"*i)"
   ]
  },
  {
   "cell_type": "markdown",
   "metadata": {},
   "source": [
    "left aligned"
   ]
  },
  {
   "cell_type": "code",
   "execution_count": 157,
   "metadata": {},
   "outputs": [
    {
     "name": "stdout",
     "output_type": "stream",
     "text": [
      "*\n",
      "**\n",
      "***\n",
      "****\n",
      "*****\n",
      "******\n"
     ]
    }
   ],
   "source": [
    "rows2 = int(input(\"Enter the number of rows:\"))\n",
    "\n",
    "for i in range(1, rows2 + 1):\n",
    "    print(\"*\"*i)"
   ]
  },
  {
   "cell_type": "code",
   "execution_count": 158,
   "metadata": {},
   "outputs": [
    {
     "name": "stdout",
     "output_type": "stream",
     "text": [
      "      *\n",
      "     ***\n",
      "    *****\n",
      "   *******\n",
      "  *********\n",
      " ***********\n",
      " ***********\n",
      "  *********\n",
      "   *******\n",
      "    *****\n",
      "     ***\n",
      "      *\n"
     ]
    }
   ],
   "source": [
    "for i in range(1,rows2+1):\n",
    "    print(\" \"*(rows -i), end = \" \")\n",
    "    print(\"*\"*(2*i-1))\n",
    "\n",
    "for i in range(rows2,0,-1):\n",
    "    print(\" \"*(rows -i), end = \" \")\n",
    "    print(\"*\"*(2*i-1))"
   ]
  },
  {
   "cell_type": "code",
   "execution_count": 165,
   "metadata": {},
   "outputs": [
    {
     "name": "stdout",
     "output_type": "stream",
     "text": [
      "      *\n",
      "     * *\n",
      "    *   *\n",
      "   *     *\n",
      "  *       *\n",
      " ***********\n"
     ]
    }
   ],
   "source": [
    "for i in range(1, rows2 +1):\n",
    "    print(\" \"*(rows2 - i), end = \" \")\n",
    "    if i==1 or i == rows2:\n",
    "        print(\"*\" * (2*i-1))\n",
    "    else:\n",
    "        print(\"*\" + \" \" * (2*i-3) + \"*\")"
   ]
  },
  {
   "cell_type": "code",
   "execution_count": 166,
   "metadata": {},
   "outputs": [
    {
     "name": "stdout",
     "output_type": "stream",
     "text": [
      "      *\n",
      "     *   \n",
      "    *     \n",
      "   *       \n",
      "  *         \n",
      " ***********\n"
     ]
    }
   ],
   "source": [
    "for i in range(1, rows2 +1):\n",
    "    print(\" \"*(rows2 - i), end = \" \")\n",
    "    if i==1 or i == rows2:\n",
    "        print(\"*\" * (2*i-1))\n",
    "    else:\n",
    "        print(\"*\" + \" \" * (2*i-1))"
   ]
  },
  {
   "cell_type": "code",
   "execution_count": 178,
   "metadata": {},
   "outputs": [
    {
     "name": "stdout",
     "output_type": "stream",
     "text": [
      "      *\n",
      "     * *\n",
      "    *   *\n",
      "   *     *\n",
      "  *       *\n",
      " *         *\n"
     ]
    }
   ],
   "source": [
    "for i in range(1, rows2 +1):\n",
    "    print(\" \"*(rows2 - i), end = \" \")\n",
    "    if i==1 :\n",
    "        print(\"*\" * (i))\n",
    "    else:\n",
    "        print(\"*\" +\" \"*(2*i-3) + \"*\")"
   ]
  },
  {
   "cell_type": "markdown",
   "metadata": {},
   "source": [
    "31 March 2025"
   ]
  },
  {
   "cell_type": "markdown",
   "metadata": {},
   "source": [
    "Password Generator"
   ]
  },
  {
   "cell_type": "code",
   "execution_count": 2,
   "metadata": {},
   "outputs": [
    {
     "name": "stdout",
     "output_type": "stream",
     "text": [
      "Generated Password:  Rl-6I&\n"
     ]
    }
   ],
   "source": [
    "''' Take input length from user\n",
    "Check length is greater than 4\n",
    "If length less than 4 then print \"pasword should be atleast 4 character\n",
    "if length is greater than 4, we generate a password\n",
    "Ensure that password contain Uppercase,lowercase,digits and special characters\n",
    "Ensure password is strong enough\n",
    "print our password'''\n",
    "import random \n",
    "import string\n",
    "length = int(input(\"Enter the length of the password: \"))\n",
    "if length < 4:\n",
    "    print(\"Password should be atleast 4 characters\")\n",
    "else:\n",
    "    uppercase = string.ascii_uppercase      #A-Z\n",
    "    lowercase = string.ascii_lowercase      #a-z\n",
    "    digits = string.digits                  #0-9\n",
    "    special = string.punctuation            # $ , @ , # , % etc\n",
    "\n",
    "password = [\n",
    "    random.choice(uppercase),\n",
    "    random.choice(lowercase),\n",
    "    random.choice(digits),\n",
    "    random.choice(special)\n",
    "]\n",
    "\n",
    "all_chars = uppercase + lowercase + digits + special\n",
    "\n",
    "password += random.choices(all_chars , k = length - 4)\n",
    "\n",
    "random.shuffle(password)\n",
    "password = \"\".join(password)\n",
    "\n",
    "print(\"Generated Password: \",\"\".join(password))"
   ]
  },
  {
   "cell_type": "markdown",
   "metadata": {},
   "source": [
    "Number Guessing game"
   ]
  },
  {
   "cell_type": "code",
   "execution_count": 3,
   "metadata": {},
   "outputs": [
    {
     "name": "stdout",
     "output_type": "stream",
     "text": [
      "\tWelcome to the number guessing game\t\n",
      "Guess a number from 1 to 100:\n",
      "Too Low!\n",
      "Too High!\n",
      "Too High!\n",
      "Too High!\n",
      "Too High!\n",
      "Too Low!\n",
      "Too Low!\n",
      "Correct! You guessed the number in 8 attempts.\n"
     ]
    }
   ],
   "source": [
    "'''Generate numbers from 1 to 100\n",
    "Ask user to guess the number\n",
    "If the guess if right,congratulate the user and end the game\n",
    "If guess is too high,prompt the user to try a lower number\n",
    "If guess is too low,prompt the user to try a higher number\n",
    "Loop until correct answer\n",
    "'''\n",
    "\n",
    "''' Generate a number\n",
    "Loop\n",
    "Ask the user to guess the number\n",
    "If guess is not valid\n",
    "    print error\n",
    "If number < guess\n",
    "    print too low\n",
    "If number > guess\n",
    "    print too high\n",
    "If number = guess\n",
    "    print correct'''\n",
    "import random\n",
    "Guess_c = random.randint(1,100)\n",
    "attempt = 0\n",
    "\n",
    "print(\"\\tWelcome to the number guessing game\\t\\nGuess a number from 1 to 100:\")\n",
    "\n",
    "while True:\n",
    "    try:\n",
    "        guess = int(input(\"Enter your guess:\"))\n",
    "        attempt += 1\n",
    "\n",
    "        if guess < Guess_c:\n",
    "            print(\"Too Low!\")\n",
    "        elif guess > Guess_c:\n",
    "            print(\"Too High!\")\n",
    "        else:\n",
    "            print(f\"Correct! You guessed the number in {attempt} attempts.\")\n",
    "            break\n",
    "    except ValueError:\n",
    "        print(\"Invalid input. PLease enter a number.\")\n"
   ]
  }
 ],
 "metadata": {
  "kernelspec": {
   "display_name": "base",
   "language": "python",
   "name": "python3"
  },
  "language_info": {
   "codemirror_mode": {
    "name": "ipython",
    "version": 3
   },
   "file_extension": ".py",
   "mimetype": "text/x-python",
   "name": "python",
   "nbconvert_exporter": "python",
   "pygments_lexer": "ipython3",
   "version": "3.12.7"
  }
 },
 "nbformat": 4,
 "nbformat_minor": 2
}
